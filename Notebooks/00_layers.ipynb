{
 "cells": [
  {
   "cell_type": "code",
   "execution_count": null,
   "metadata": {},
   "outputs": [],
   "source": [
    "#| default_exp layers"
   ]
  },
  {
   "attachments": {},
   "cell_type": "markdown",
   "metadata": {},
   "source": [
    "# Functional layers\n",
    "\n",
    "> JaX/Flax implementation of functional layers."
   ]
  },
  {
   "cell_type": "code",
   "execution_count": null,
   "metadata": {},
   "outputs": [],
   "source": [
    "#| export\n",
    "import jax\n",
    "from typing import Any, Callable, Sequence, Union\n",
    "from jax import lax, random, numpy as jnp\n",
    "from flax.core import freeze, unfreeze\n",
    "from flax import linen as nn\n",
    "import optax"
   ]
  },
  {
   "attachments": {},
   "cell_type": "markdown",
   "metadata": {},
   "source": [
    "## Base layer\n",
    "\n",
    "> First we'll define a base class that will be used by every other functional layer."
   ]
  },
  {
   "cell_type": "code",
   "execution_count": null,
   "metadata": {},
   "outputs": [],
   "source": [
    "class BaseFunctional(nn.Module):\n",
    "    \"\"\"Base functional layer.\"\"\"\n",
    "    features: int\n",
    "    kernel_size: Union[int, Sequence[int]]\n",
    "    strides: int = 1\n",
    "    padding: str = \"SAME\"\n",
    "    feature_group_count: int = 1\n",
    "    kernel_init: Callable = nn.initializers.lecun_normal()\n",
    "    bias_init: Callable = nn.initializers.zeros_init()\n",
    "    xmean: float = 0.5\n",
    "    ymean: float = 0.5\n",
    "\n",
    "    @nn.compact\n",
    "    def __call__(self,\n",
    "                 inputs,\n",
    "                 ):\n",
    "        sigma = self.param(\"sigma\",\n",
    "                           nn.initializers.uniform(scale=1),\n",
    "                           (self.features*inputs.shape[-1],))\n",
    "\n",
    "        # x, y = jnp.meshgrid(jnp.linspace(0,1,num=self.kernel_size), jnp.linspace(0,1,num=self.kernel_size))\n",
    "        # kernel = jax.vmap(self.gaussian, in_axes=(None,None,None,None,0,None), out_axes=-1)(x, y, self.xmean, self.ymean, sigma, 1)\n",
    "        # kernel = jnp.reshape(kernel, newshape=(self.kernel_size, self.kernel_size, inputs.shape[-1], self.features))\n",
    "        kernel = self.generate_kernel()\n",
    "\n",
    "        ## Add the batch dim if the input is a single element\n",
    "        if jnp.ndim(inputs) < 4: inputs = inputs[None,:]\n",
    "        outputs = lax.conv(jnp.transpose(inputs,[0,3,1,2]),    # lhs = NCHW image tensor\n",
    "               jnp.transpose(kernel,[3,2,0,1]), # rhs = OIHW conv kernel tensor\n",
    "               (self.strides, self.strides),\n",
    "               self.padding)\n",
    "        return outputs\n",
    "\n",
    "    @staticmethod\n",
    "    def generate_function(x, y, xmean, ymean, sigma, A=1):\n",
    "        return A*jnp.exp(-((x-xmean)**2 + (y-ymean)**2)/(2*sigma**2))\n",
    "\n",
    "    def return_kernel(self, params):\n",
    "        x, y = jnp.meshgrid(jnp.linspace(0,1,num=self.kernel_size), jnp.linspace(0,1,num=self.kernel_size))\n",
    "        kernel = jax.vmap(self.gaussian, in_axes=(None,None,None,None,0,None), out_axes=-1)(x, y, self.xmean, self.ymean, params[\"params\"][\"sigma\"], 1)\n",
    "        kernel = jnp.reshape(kernel, newshape=(self.kernel_size, self.kernel_size, 3, self.features))\n",
    "        return kernel"
   ]
  },
  {
   "attachments": {},
   "cell_type": "markdown",
   "metadata": {},
   "source": [
    "## Gaussian layer"
   ]
  },
  {
   "cell_type": "code",
   "execution_count": null,
   "metadata": {},
   "outputs": [],
   "source": [
    "#| export\n",
    "class GaussianLayer(nn.Module):\n",
    "    \"\"\"Parametric gaussian layer.\"\"\"\n",
    "    features: int\n",
    "    kernel_size: Union[int, Sequence[int]]\n",
    "    strides: int = 1\n",
    "    padding: str = \"SAME\"\n",
    "    feature_group_count: int = 1\n",
    "    kernel_init: Callable = nn.initializers.lecun_normal()\n",
    "    bias_init: Callable = nn.initializers.zeros_init()\n",
    "    xmean: float = 0.5\n",
    "    ymean: float = 0.5\n",
    "    normalize_prob: bool = True\n",
    "\n",
    "    @nn.compact\n",
    "    def __call__(self,\n",
    "                 inputs,\n",
    "                 train=False,\n",
    "                 ):\n",
    "        is_initialized = self.has_variable(\"precalc_filter\", \"kernel\")\n",
    "        precalc_filters = self.variable(\"precalc_filter\",\n",
    "                                        \"kernel\",\n",
    "                                        jnp.zeros,\n",
    "                                        (self.kernel_size, self.kernel_size, inputs.shape[-1], self.features))\n",
    "        sigma = self.param(\"sigma\",\n",
    "                           nn.initializers.uniform(scale=1),\n",
    "                           (self.features*inputs.shape[-1],))\n",
    "        if is_initialized and not train: \n",
    "            kernel = precalc_filters.value\n",
    "        elif is_initialized and train: \n",
    "            x, y = jnp.meshgrid(jnp.linspace(0,1,num=self.kernel_size), jnp.linspace(0,1,num=self.kernel_size))\n",
    "            kernel = jax.vmap(self.gaussian, in_axes=(None,None,None,None,0,None,None), out_axes=-1)(x, y, self.xmean, self.ymean, sigma, 1, self.normalize_prob)\n",
    "            kernel = jnp.reshape(kernel, newshape=(self.kernel_size, self.kernel_size, inputs.shape[-1], self.features))\n",
    "            precalc_filters.value = kernel\n",
    "        else:\n",
    "            kernel = precalc_filters.value\n",
    "\n",
    "        ## Add the batch dim if the input is a single element\n",
    "        if jnp.ndim(inputs) < 4: inputs = inputs[None,:]; had_batch = False\n",
    "        else: had_batch = True\n",
    "        outputs = lax.conv(jnp.transpose(inputs,[0,3,1,2]),    # lhs = NCHW image tensor\n",
    "               jnp.transpose(kernel,[3,2,0,1]), # rhs = OIHW conv kernel tensor\n",
    "               (self.strides, self.strides),\n",
    "               self.padding)\n",
    "        ## Move the channels back to the last dim\n",
    "        outputs = jnp.transpose(outputs, (0,2,3,1))\n",
    "        if not had_batch: outputs = outputs[0]\n",
    "        return outputs\n",
    "\n",
    "    @staticmethod\n",
    "    def gaussian(x, y, xmean, ymean, sigma, A=1, normalize_prob=True):\n",
    "        # A_norm = 1/(2*jnp.pi*sigma) if normalize_prob else 1.\n",
    "        A_norm = jnp.where(normalize_prob, 1/(2*jnp.pi*sigma), 1.)\n",
    "        return A*A_norm*jnp.exp(-((x-xmean)**2 + (y-ymean)**2)/(2*sigma**2))\n",
    "\n",
    "    def return_kernel(self, params):\n",
    "        x, y = jnp.meshgrid(jnp.linspace(0,1,num=self.kernel_size), jnp.linspace(0,1,num=self.kernel_size))\n",
    "        kernel = jax.vmap(self.gaussian, in_axes=(None,None,None,None,0,None,None), out_axes=-1)(x, y, self.xmean, self.ymean, params[\"params\"][\"sigma\"], 1, self.normalize_prob)\n",
    "        kernel = jnp.reshape(kernel, newshape=(self.kernel_size, self.kernel_size, 3, self.features))\n",
    "        return kernel"
   ]
  },
  {
   "cell_type": "code",
   "execution_count": null,
   "metadata": {},
   "outputs": [
    {
     "name": "stdout",
     "output_type": "stream",
     "text": [
      "Parameter shapes:  FrozenDict({\n",
      "    sigma: (3,),\n",
      "})\n"
     ]
    }
   ],
   "source": [
    "key1, key2 = random.split(random.PRNGKey(0), 2)\n",
    "x = random.normal(key1, shape=(28,28,3))\n",
    "model = GaussianLayer(features=1, kernel_size=21)\n",
    "variables = model.init(key2, x)\n",
    "state, params = variables.pop(\"params\")\n",
    "print(\"Parameter shapes: \", jax.tree_util.tree_map(lambda x: x.shape, params))"
   ]
  },
  {
   "attachments": {},
   "cell_type": "markdown",
   "metadata": {},
   "source": [
    "We can test if the precalculated filters are updated when in training mode and stay the same when in evaluation mode:"
   ]
  },
  {
   "cell_type": "code",
   "execution_count": null,
   "metadata": {},
   "outputs": [
    {
     "name": "stdout",
     "output_type": "stream",
     "text": [
      "CPU times: user 900 ms, sys: 40.9 ms, total: 941 ms\n",
      "Wall time: 1.79 s\n"
     ]
    }
   ],
   "source": [
    "%%time\n",
    "outputs, updated_state = model.apply({\"params\": params, **state}, x, mutable=list(state.keys()), train=True)\n",
    "assert not jax.tree_util.tree_map(lambda x,y: (x==y).all(), state, updated_state)[\"precalc_filter\"][\"kernel\"]"
   ]
  },
  {
   "cell_type": "code",
   "execution_count": null,
   "metadata": {},
   "outputs": [
    {
     "name": "stdout",
     "output_type": "stream",
     "text": [
      "CPU times: user 9.17 ms, sys: 10.5 ms, total: 19.6 ms\n",
      "Wall time: 15.6 ms\n"
     ]
    }
   ],
   "source": [
    "%%time\n",
    "outputs, updated_state = model.apply({\"params\": params, **state}, x, mutable=list(state.keys()), train=False)\n",
    "assert jax.tree_util.tree_map(lambda x,y: (x==y).all(), state, updated_state)[\"precalc_filter\"][\"kernel\"]"
   ]
  },
  {
   "attachments": {},
   "cell_type": "markdown",
   "metadata": {},
   "source": [
    "We see that there is a time difference in both executions, which makes sense because when `train=False`, the filters don't have to be calculated and thus the function should run faster."
   ]
  },
  {
   "attachments": {},
   "cell_type": "markdown",
   "metadata": {},
   "source": [
    "And let's see if we're able to train the layer weights while maintaining the state:"
   ]
  },
  {
   "cell_type": "code",
   "execution_count": null,
   "metadata": {},
   "outputs": [],
   "source": [
    "from functools import partial\n",
    "\n",
    "@partial(jax.jit, static_argnums=(0, 1))\n",
    "def update_step(apply_fn, tx, inputs, opt_state, params, state):\n",
    "    def loss(params):\n",
    "        pred, updated_state = apply_fn({\"params\": params, **state}, \n",
    "                                       x, \n",
    "                                       mutable=list(state.keys()), \n",
    "                                       train=True)\n",
    "        loss = ((pred-inputs)**2).sum()\n",
    "        return loss, updated_state\n",
    "    (l, updated_state), grads = jax.value_and_grad(loss, has_aux=True)(params)\n",
    "    updates, opt_state = tx.update(grads, opt_state)\n",
    "    params = optax.apply_updates(params, updates)\n",
    "    return opt_state, params, updated_state, l"
   ]
  },
  {
   "cell_type": "code",
   "execution_count": null,
   "metadata": {},
   "outputs": [
    {
     "name": "stdout",
     "output_type": "stream",
     "text": [
      "Loss 0: 82426.7265625\n",
      "Loss 100: 3053.466796875\n",
      "Loss 200: 2899.94287109375\n",
      "Loss 300: 2824.4873046875\n",
      "Loss 400: 2777.02978515625\n",
      "Loss 500: 2743.489501953125\n",
      "Loss 600: 2718.09423828125\n",
      "Loss 700: 2697.96728515625\n",
      "Loss 800: 2681.487548828125\n",
      "Loss 900: 2667.6611328125\n",
      "Loss 1000: 2655.83837890625\n"
     ]
    }
   ],
   "source": [
    "model = GaussianLayer(features=3, kernel_size=21)\n",
    "variables = model.init(random.PRNGKey(0), x)\n",
    "# Split state and params (which are updated by optimizer).\n",
    "state, params = variables.pop('params')\n",
    "del variables  # Delete variables to avoid wasting resources\n",
    "tx = optax.sgd(learning_rate=3e-4)\n",
    "opt_state = tx.init(params)\n",
    "\n",
    "for i in range(1001):\n",
    "  opt_state, params, state, loss = update_step(\n",
    "      model.apply, tx, x, opt_state, params, state)\n",
    "  if i % 100 == 0: print(f\"Loss {i}: {loss}\")"
   ]
  },
  {
   "attachments": {},
   "cell_type": "markdown",
   "metadata": {},
   "source": [
    "The loss is going down, so everything looking good so far!"
   ]
  },
  {
   "attachments": {},
   "cell_type": "markdown",
   "metadata": {},
   "source": [
    "## Gabor layer\n",
    "\n",
    "> We'll repeat the process but now with a Gabor functional form."
   ]
  },
  {
   "cell_type": "code",
   "execution_count": null,
   "metadata": {},
   "outputs": [],
   "source": [
    "#| export\n",
    "class GaborLayer(nn.Module):\n",
    "    \"\"\"Parametric Gabor layer.\"\"\"\n",
    "    features: int\n",
    "    kernel_size: Union[int, Sequence[int]]\n",
    "    strides: int = 1\n",
    "    padding: str = \"SAME\"\n",
    "    feature_group_count: int = 1\n",
    "    kernel_init: Callable = nn.initializers.lecun_normal()\n",
    "    bias_init: Callable = nn.initializers.zeros_init()\n",
    "    xmean: float = 0.5\n",
    "    ymean: float = 0.5\n",
    "    fs: float = 1 # Sampling frequency\n",
    "\n",
    "    normalize_prob: bool = True\n",
    "\n",
    "    @nn.compact\n",
    "    def __call__(self,\n",
    "                 inputs,\n",
    "                 train=False,\n",
    "                 ):\n",
    "        is_initialized = self.has_variable(\"precalc_filter\", \"kernel\")\n",
    "        precalc_filters = self.variable(\"precalc_filter\",\n",
    "                                        \"kernel\",\n",
    "                                        jnp.zeros,\n",
    "                                        (self.kernel_size, self.kernel_size, inputs.shape[-1], self.features))\n",
    "        freq = self.param(\"freq\",\n",
    "                           nn.initializers.uniform(scale=self.fs/2),\n",
    "                           (self.features*inputs.shape[-1],))\n",
    "        logsigmax = self.param(\"logsigmax\",\n",
    "                           nn.initializers.uniform(scale=1),\n",
    "                           (self.features*inputs.shape[-1],))\n",
    "        logsigmay = self.param(\"logsigmay\",\n",
    "                           nn.initializers.uniform(scale=1),\n",
    "                           (self.features*inputs.shape[-1],))\n",
    "        theta = self.param(\"theta\",\n",
    "                           nn.initializers.uniform(scale=1),\n",
    "                           (self.features*inputs.shape[-1],))\n",
    "        sigma_theta = self.param(\"sigma_theta\",\n",
    "                           nn.initializers.uniform(scale=1),\n",
    "                           (self.features*inputs.shape[-1],))\n",
    "        rot_theta = self.param(\"rot_theta\",\n",
    "                           nn.initializers.uniform(scale=1),\n",
    "                           (self.features*inputs.shape[-1],))\n",
    "        sigmax, sigmay = jnp.exp(logsigmax), jnp.exp(logsigmay)\n",
    "\n",
    "        if is_initialized and not train: \n",
    "            kernel = precalc_filters.value\n",
    "        elif is_initialized and train: \n",
    "            x, y = jnp.meshgrid(jnp.linspace(0,self.kernel_size/self.fs,num=self.kernel_size), jnp.linspace(0,self.kernel_size,num=self.kernel_size))\n",
    "            # gabor_fn = jax.vmap(self.gabor, in_axes=(None,None,None,None,0,0,0,0,0,0,None,None))\n",
    "            kernel = jax.vmap(self.gabor, in_axes=(None,None,None,None,0,0,0,0,0,0,None,None))(x, y, self.xmean, self.ymean, sigmax, sigmay, freq, theta, sigma_theta, rot_theta, 1, self.normalize_prob)\n",
    "            kernel = jnp.reshape(kernel, newshape=(self.kernel_size, self.kernel_size, inputs.shape[-1], self.features))\n",
    "            precalc_filters.value = kernel\n",
    "        else:\n",
    "            kernel = precalc_filters.value\n",
    "\n",
    "        ## Add the batch dim if the input is a single element\n",
    "        if jnp.ndim(inputs) < 4: inputs = inputs[None,:]; had_batch = False\n",
    "        else: had_batch = True\n",
    "        outputs = lax.conv(jnp.transpose(inputs,[0,3,1,2]),    # lhs = NCHW image tensor\n",
    "               jnp.transpose(kernel,[3,2,0,1]), # rhs = OIHW conv kernel tensor\n",
    "               (self.strides, self.strides),\n",
    "               self.padding)\n",
    "        ## Move the channels back to the last dim\n",
    "        outputs = jnp.transpose(outputs, (0,2,3,1))\n",
    "        if not had_batch: outputs = outputs[0]\n",
    "        return outputs\n",
    "\n",
    "    @staticmethod\n",
    "    def gabor(x, y, xmean, ymean, sigmax, sigmay, freq, theta, sigma_theta, rot_theta, A=1, normalize_prob=True):\n",
    "        # ## Rotate the dominion\n",
    "        # x = jnp.cos(rot_theta) * (x - xmean) - jnp.sin(rot_theta) * (y - ymean)\n",
    "        # y = jnp.sin(rot_theta) * (x - xmean) + jnp.cos(rot_theta) * (y - ymean)\n",
    "        x, y = x-xmean, y-ymean\n",
    "        ## Obtain the normalization coeficient\n",
    "        sigma_vector = jnp.array([sigmax, sigmay])\n",
    "        cov_matrix = jnp.diag(sigma_vector)**2\n",
    "        det_cov_matrix = jnp.linalg.det(cov_matrix)\n",
    "        # A_norm = 1/(2*jnp.pi*jnp.sqrt(det_cov_matrix)) if normalize_prob else 1.\n",
    "        A_norm = jnp.where(normalize_prob, 1/(2*jnp.pi*jnp.sqrt(det_cov_matrix)), 1.)\n",
    "        \n",
    "        ## Rotate the sinusoid\n",
    "        rotation_matrix = jnp.array([[jnp.cos(sigma_theta), -jnp.sin(sigma_theta)],\n",
    "                                     [jnp.sin(sigma_theta), jnp.cos(sigma_theta)]])\n",
    "        rotated_covariance = rotation_matrix @ jnp.linalg.inv(cov_matrix) @ jnp.transpose(rotation_matrix)\n",
    "        x_r_1 = rotated_covariance[0,0] * x + rotated_covariance[0,1] * y\n",
    "        y_r_1 = rotated_covariance[1,0] * x + rotated_covariance[1,1] * y\n",
    "        distance = x * x_r_1 + y * y_r_1\n",
    "\n",
    "        return A*A_norm*jnp.exp(-distance/2) * jnp.cos(2*jnp.pi*freq*(x*jnp.cos(theta)+y*jnp.sin(theta)))\n",
    "\n",
    "    def return_kernel(self, params):\n",
    "        x, y = jnp.meshgrid(jnp.linspace(0,1,num=self.kernel_size), jnp.linspace(0,1,num=self.kernel_size))\n",
    "        sigmax, sigmay = jnp.exp(params[\"logsigmax\"]), jnp.exp(params[\"logsigmay\"])\n",
    "        kernel = jax.vmap(self.gabor, in_axes=(None,None,None,None,0,0,0,0,0,0,None,None), out_axes=-1)(x, y, self.xmean, self.ymean, sigmax, sigmay, params[\"freq\"], params[\"theta\"], params[\"sigma_theta\"], params[\"rot_theta\"], 1, self.normalize_prob)\n",
    "        kernel = jnp.reshape(kernel, newshape=(self.kernel_size, self.kernel_size, 3, self.features))\n",
    "        return kernel"
   ]
  },
  {
   "cell_type": "code",
   "execution_count": null,
   "metadata": {},
   "outputs": [
    {
     "name": "stdout",
     "output_type": "stream",
     "text": [
      "Parameter shapes:  FrozenDict({\n",
      "    freq: (3,),\n",
      "    logsigmax: (3,),\n",
      "    logsigmay: (3,),\n",
      "    rot_theta: (3,),\n",
      "    sigma_theta: (3,),\n",
      "    theta: (3,),\n",
      "})\n"
     ]
    }
   ],
   "source": [
    "key1, key2 = random.split(random.PRNGKey(0), 2)\n",
    "x = random.normal(key1, shape=(28,28,3))\n",
    "model = GaborLayer(features=1, kernel_size=21, fs=21)\n",
    "variables = model.init(key2, x)\n",
    "state, params = variables.pop(\"params\")\n",
    "print(\"Parameter shapes: \", jax.tree_util.tree_map(lambda x: x.shape, params))"
   ]
  },
  {
   "cell_type": "code",
   "execution_count": null,
   "metadata": {},
   "outputs": [
    {
     "data": {
      "text/plain": [
       "FrozenDict({\n",
       "    freq: Array([ 0.17884755,  2.2042155 , 10.288093  ], dtype=float32),\n",
       "    logsigmax: Array([0.27928114, 0.0257591 , 0.4917171 ], dtype=float32),\n",
       "    logsigmay: Array([0.8714453 , 0.23210955, 0.9098555 ], dtype=float32),\n",
       "    theta: Array([0.59344244, 0.5541148 , 0.7924371 ], dtype=float32),\n",
       "    sigma_theta: Array([0.14205718, 0.4783976 , 0.8688996 ], dtype=float32),\n",
       "    rot_theta: Array([0.783757  , 0.42179286, 0.23288691], dtype=float32),\n",
       "})"
      ]
     },
     "execution_count": null,
     "metadata": {},
     "output_type": "execute_result"
    }
   ],
   "source": [
    "params"
   ]
  },
  {
   "cell_type": "code",
   "execution_count": null,
   "metadata": {},
   "outputs": [
    {
     "name": "stdout",
     "output_type": "stream",
     "text": [
      "(21, 21)\n"
     ]
    },
    {
     "data": {
      "image/png": "[encoded data removed]",
      "text/plain": [
       "<Figure size 640x480 with 1 Axes>"
      ]
     },
     "metadata": {},
     "output_type": "display_data"
    }
   ],
   "source": [
    "#| eval: false\n",
    "import matplotlib.pyplot as plt\n",
    "xmean, ymean = 0.5, 0.5\n",
    "kernel_size = 21\n",
    "fs = 21\n",
    "sigmax, sigmay = 0.16, 0.16\n",
    "freq = 6\n",
    "\n",
    "x_, y_ = jnp.meshgrid(jnp.linspace(0,kernel_size/fs,num=kernel_size+1)[:-1], jnp.linspace(0,kernel_size/fs,num=kernel_size+1)[:-1])\n",
    "g = model.gabor(x_, y_, xmean, ymean, sigmax, sigmay, freq=freq, theta=0, sigma_theta=0, rot_theta=0)\n",
    "print(g.shape)\n",
    "plt.imshow(g)\n",
    "plt.show()"
   ]
  },
  {
   "cell_type": "code",
   "execution_count": null,
   "metadata": {},
   "outputs": [
    {
     "data": {
      "text/plain": [
       "(21, 21, 3, 1)"
      ]
     },
     "execution_count": null,
     "metadata": {},
     "output_type": "execute_result"
    }
   ],
   "source": [
    "kernel = model.return_kernel(params)\n",
    "kernel.shape"
   ]
  },
  {
   "cell_type": "code",
   "execution_count": null,
   "metadata": {},
   "outputs": [
    {
     "data": {
      "image/png": "[encoded data removed]",
      "text/plain": [
       "<Figure size 640x480 with 1 Axes>"
      ]
     },
     "metadata": {},
     "output_type": "display_data"
    },
    {
     "data": {
      "image/png": "[encoded data removed]",
      "text/plain": [
       "<Figure size 640x480 with 1 Axes>"
      ]
     },
     "metadata": {},
     "output_type": "display_data"
    },
    {
     "data": {
      "image/png": "[encoded data removed]",
      "text/plain": [
       "<Figure size 640x480 with 1 Axes>"
      ]
     },
     "metadata": {},
     "output_type": "display_data"
    }
   ],
   "source": [
    "#| eval: false\n",
    "for k in jnp.transpose(kernel, (3,2,0,1))[0]:\n",
    "    plt.imshow(k)\n",
    "    plt.show()"
   ]
  },
  {
   "cell_type": "markdown",
   "metadata": {},
   "source": [
    "We can test if the precalculated filters are updated when in training mode and stay the same when in evaluation mode:"
   ]
  },
  {
   "cell_type": "code",
   "execution_count": null,
   "metadata": {},
   "outputs": [
    {
     "name": "stdout",
     "output_type": "stream",
     "text": [
      "CPU times: user 129 ms, sys: 14.6 ms, total: 144 ms\n",
      "Wall time: 181 ms\n"
     ]
    }
   ],
   "source": [
    "%%time\n",
    "outputs, updated_state = model.apply({\"params\": params, **state}, x, mutable=list(state.keys()), train=True)\n",
    "assert not jax.tree_util.tree_map(lambda x,y: (x==y).all(), state, updated_state)[\"precalc_filter\"][\"kernel\"]"
   ]
  },
  {
   "cell_type": "code",
   "execution_count": null,
   "metadata": {},
   "outputs": [
    {
     "name": "stdout",
     "output_type": "stream",
     "text": [
      "CPU times: user 28.6 ms, sys: 102 µs, total: 28.7 ms\n",
      "Wall time: 24.8 ms\n"
     ]
    }
   ],
   "source": [
    "%%time\n",
    "outputs, updated_state = model.apply({\"params\": params, **state}, x, mutable=list(state.keys()), train=False)\n",
    "assert jax.tree_util.tree_map(lambda x,y: (x==y).all(), state, updated_state)[\"precalc_filter\"][\"kernel\"]"
   ]
  },
  {
   "cell_type": "markdown",
   "metadata": {},
   "source": [
    "We see that there is a time difference in both executions, which makes sense because when `train=False`, the filters don't have to be calculated and thus the function should run faster."
   ]
  },
  {
   "cell_type": "markdown",
   "metadata": {},
   "source": [
    "And let's see if we're able to train the layer weights while maintaining the state:"
   ]
  },
  {
   "cell_type": "code",
   "execution_count": null,
   "metadata": {},
   "outputs": [],
   "source": [
    "from functools import partial\n",
    "\n",
    "@partial(jax.jit, static_argnums=(0, 1))\n",
    "def update_step(apply_fn, tx, inputs, opt_state, params, state):\n",
    "    def loss(params):\n",
    "        pred, updated_state = apply_fn({\"params\": params, **state}, \n",
    "                                       x, \n",
    "                                       mutable=list(state.keys()), \n",
    "                                       train=True)\n",
    "        loss = ((pred-inputs)**2).sum()\n",
    "        return loss, updated_state\n",
    "    (l, updated_state), grads = jax.value_and_grad(loss, has_aux=True)(params)\n",
    "    updates, opt_state = tx.update(grads, opt_state)\n",
    "    params = optax.apply_updates(params, updates)\n",
    "    return opt_state, params, updated_state, l"
   ]
  },
  {
   "cell_type": "code",
   "execution_count": null,
   "metadata": {},
   "outputs": [
    {
     "name": "stdout",
     "output_type": "stream",
     "text": [
      "Loss 0: 2727.39111328125\n",
      "Loss 100: 2427.29443359375\n",
      "Loss 200: 2420.80859375\n",
      "Loss 300: 2419.02734375\n",
      "Loss 400: 2418.013916015625\n",
      "Loss 500: 2417.444580078125\n",
      "Loss 600: 2417.135009765625\n",
      "Loss 700: 2416.9248046875\n",
      "Loss 800: 2416.7763671875\n",
      "Loss 900: 2416.669677734375\n",
      "Loss 1000: 2416.58935546875\n"
     ]
    }
   ],
   "source": [
    "model = GaborLayer(features=1, kernel_size=21, fs=21)\n",
    "variables = model.init(random.PRNGKey(0), x)\n",
    "# Split state and params (which are updated by optimizer).\n",
    "state, params = variables.pop('params')\n",
    "del variables  # Delete variables to avoid wasting resources\n",
    "tx = optax.sgd(learning_rate=3e-4)\n",
    "opt_state = tx.init(params)\n",
    "\n",
    "for i in range(1001):\n",
    "  opt_state, params, state, loss = update_step(\n",
    "      model.apply, tx, x, opt_state, params, state)\n",
    "  if i % 100 == 0: print(f\"Loss {i}: {loss}\")"
   ]
  },
  {
   "cell_type": "markdown",
   "metadata": {},
   "source": [
    "The loss is going down, so everything looking good so far!"
   ]
  }
 ],
 "metadata": {
  "kernelspec": {
   "display_name": "python3",
   "language": "python",
   "name": "python3"
  }
 },
 "nbformat": 4,
 "nbformat_minor": 2
}
