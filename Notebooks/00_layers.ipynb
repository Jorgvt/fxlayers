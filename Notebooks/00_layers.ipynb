{
 "cells": [
  {
   "cell_type": "code",
   "execution_count": 1,
   "metadata": {},
   "outputs": [],
   "source": [
    "#| default_exp layers"
   ]
  },
  {
   "attachments": {},
   "cell_type": "markdown",
   "metadata": {},
   "source": [
    "# Functional layers\n",
    "\n",
    "> JaX/Flax implementation of functional layers."
   ]
  },
  {
   "cell_type": "code",
   "execution_count": 2,
   "metadata": {},
   "outputs": [],
   "source": [
    "#| hide\n",
    "%load_ext autoreload\n",
    "%autoreload 2"
   ]
  },
  {
   "cell_type": "code",
   "execution_count": 20,
   "metadata": {},
   "outputs": [],
   "source": [
    "#| export\n",
    "import jax\n",
    "from typing import Any, Callable, Sequence, Union\n",
    "from jax import lax, random, numpy as jnp\n",
    "from flax.core import freeze, unfreeze\n",
    "from flax import linen as nn\n",
    "import optax\n",
    "from einops import rearrange, repeat\n",
    "\n",
    "from fxlayers.initializers import *"
   ]
  },
  {
   "attachments": {},
   "cell_type": "markdown",
   "metadata": {},
   "source": [
    "## Base layer\n",
    "\n",
    "> First we'll define a base class that will be used by every other functional layer."
   ]
  },
  {
   "cell_type": "code",
   "execution_count": 4,
   "metadata": {},
   "outputs": [],
   "source": [
    "class BaseFunctional(nn.Module):\n",
    "    \"\"\"Base functional layer.\"\"\"\n",
    "    features: int\n",
    "    kernel_size: Union[int, Sequence[int]]\n",
    "    strides: int = 1\n",
    "    padding: str = \"SAME\"\n",
    "    feature_group_count: int = 1\n",
    "    kernel_init: Callable = nn.initializers.lecun_normal()\n",
    "    bias_init: Callable = nn.initializers.zeros_init()\n",
    "    xmean: float = 0.5\n",
    "    ymean: float = 0.5\n",
    "\n",
    "    @nn.compact\n",
    "    def __call__(self,\n",
    "                 inputs,\n",
    "                 ):\n",
    "        sigma = self.param(\"sigma\",\n",
    "                           nn.initializers.uniform(scale=1),\n",
    "                           (self.features*inputs.shape[-1],))\n",
    "\n",
    "        # x, y = jnp.meshgrid(jnp.linspace(0,1,num=self.kernel_size), jnp.linspace(0,1,num=self.kernel_size))\n",
    "        # kernel = jax.vmap(self.gaussian, in_axes=(None,None,None,None,0,None), out_axes=-1)(x, y, self.xmean, self.ymean, sigma, 1)\n",
    "        # kernel = jnp.reshape(kernel, newshape=(self.kernel_size, self.kernel_size, inputs.shape[-1], self.features))\n",
    "        kernel = self.generate_kernel()\n",
    "\n",
    "        ## Add the batch dim if the input is a single element\n",
    "        if jnp.ndim(inputs) < 4: inputs = inputs[None,:]\n",
    "        outputs = lax.conv(jnp.transpose(inputs,[0,3,1,2]),    # lhs = NCHW image tensor\n",
    "               jnp.transpose(kernel,[3,2,0,1]), # rhs = OIHW conv kernel tensor\n",
    "               (self.strides, self.strides),\n",
    "               self.padding)\n",
    "        return outputs\n",
    "\n",
    "    @staticmethod\n",
    "    def generate_function(x, y, xmean, ymean, sigma, A=1):\n",
    "        return A*jnp.exp(-((x-xmean)**2 + (y-ymean)**2)/(2*sigma**2))\n",
    "\n",
    "    def return_kernel(self, params):\n",
    "        x, y = jnp.meshgrid(jnp.linspace(0,1,num=self.kernel_size), jnp.linspace(0,1,num=self.kernel_size))\n",
    "        kernel = jax.vmap(self.gaussian, in_axes=(None,None,None,None,0,None), out_axes=-1)(x, y, self.xmean, self.ymean, params[\"params\"][\"sigma\"], 1)\n",
    "        kernel = jnp.reshape(kernel, newshape=(self.kernel_size, self.kernel_size, 3, self.features))\n",
    "        return kernel"
   ]
  },
  {
   "attachments": {},
   "cell_type": "markdown",
   "metadata": {},
   "source": [
    "## Gaussian layer"
   ]
  },
  {
   "cell_type": "code",
   "execution_count": 5,
   "metadata": {},
   "outputs": [],
   "source": [
    "#| export\n",
    "class GaussianLayer(nn.Module):\n",
    "    \"\"\"Parametric gaussian layer.\"\"\"\n",
    "    features: int\n",
    "    kernel_size: Union[int, Sequence[int]]\n",
    "    strides: int = 1\n",
    "    padding: str = \"SAME\"\n",
    "    feature_group_count: int = 1\n",
    "    kernel_init: Callable = nn.initializers.lecun_normal()\n",
    "    bias_init: Callable = nn.initializers.zeros_init()\n",
    "    use_bias: bool = False\n",
    "    xmean: float = 0.5\n",
    "    ymean: float = 0.5\n",
    "    fs: float = 1 # Sampling frequency\n",
    "    normalize_prob: bool = True\n",
    "    normalize_energy: bool = False\n",
    "\n",
    "    @nn.compact\n",
    "    def __call__(self,\n",
    "                 inputs,\n",
    "                 train=False,\n",
    "                 ):\n",
    "        is_initialized = self.has_variable(\"precalc_filter\", \"kernel\")\n",
    "        precalc_filters = self.variable(\"precalc_filter\",\n",
    "                                        \"kernel\",\n",
    "                                        jnp.zeros,\n",
    "                                        (self.kernel_size, self.kernel_size, inputs.shape[-1], self.features))\n",
    "        sigma = self.param(\"sigma\",\n",
    "                           nn.initializers.uniform(scale=self.xmean),\n",
    "                           (self.features*inputs.shape[-1],))\n",
    "        A = self.param(\"A\",\n",
    "                       nn.initializers.ones,\n",
    "                       (self.features*inputs.shape[-1],))\n",
    "        if self.use_bias: bias = self.param(\"bias\",\n",
    "                                            self.bias_init,\n",
    "                                            (self.features,))\n",
    "        else: bias = 0.\n",
    "\n",
    "        if is_initialized and not train: \n",
    "            kernel = precalc_filters.value\n",
    "        elif is_initialized and train: \n",
    "            x, y = self.generate_dominion()\n",
    "            kernel = jax.vmap(self.gaussian, in_axes=(None,None,None,None,0,0,None,None), out_axes=0)(x, y, self.xmean, self.ymean, sigma, A, self.normalize_prob, self.normalize_energy)\n",
    "            # kernel = jnp.reshape(kernel, newshape=(self.kernel_size, self.kernel_size, inputs.shape[-1], self.features))\n",
    "            kernel = rearrange(kernel, \"(c_in c_out) kx ky -> kx ky c_in c_out\", c_in=inputs.shape[-1], c_out=self.features)\n",
    "            precalc_filters.value = kernel\n",
    "        else:\n",
    "            kernel = precalc_filters.value\n",
    "\n",
    "        ## Add the batch dim if the input is a single element\n",
    "        if jnp.ndim(inputs) < 4: inputs = inputs[None,:]; had_batch = False\n",
    "        else: had_batch = True\n",
    "        outputs = lax.conv(jnp.transpose(inputs,[0,3,1,2]),    # lhs = NCHW image tensor\n",
    "               jnp.transpose(kernel,[3,2,0,1]), # rhs = OIHW conv kernel tensor\n",
    "               (self.strides, self.strides),\n",
    "               self.padding)\n",
    "        ## Move the channels back to the last dim\n",
    "        outputs = jnp.transpose(outputs, (0,2,3,1))\n",
    "        if not had_batch: outputs = outputs[0]\n",
    "        return outputs + bias\n",
    "\n",
    "    @staticmethod\n",
    "    def gaussian(x, y, xmean, ymean, sigma, A=1, normalize_prob=True, normalize_energy=False):\n",
    "        # A_norm = 1/(2*jnp.pi*sigma) if normalize_prob else 1.\n",
    "        A_norm = jnp.where(normalize_prob, 1/(2*jnp.pi*sigma**2), 1.)\n",
    "        gaussian = A_norm*jnp.exp(-((x-xmean)**2 + (y-ymean)**2)/(2*sigma**2))\n",
    "        E_norm = jnp.where(normalize_energy, jnp.sqrt(jnp.sum(gaussian**2)), 1.)\n",
    "        return A*gaussian/E_norm\n",
    "\n",
    "    def return_kernel(self, params, c_in):\n",
    "        x, y = self.generate_dominion()\n",
    "        kernel = jax.vmap(self.gaussian, in_axes=(None,None,None,None,0,0,None,None), out_axes=0)(x, y, self.xmean, self.ymean, params[\"params\"][\"sigma\"], params[\"params\"][\"A\"], self.normalize_prob, self.normalize_energy)\n",
    "        # kernel = jnp.reshape(kernel, newshape=(self.kernel_size, self.kernel_size, 3, self.features))\n",
    "        kernel = rearrange(kernel, \"(c_in c_out) kx ky -> kx ky c_in c_out\", c_in=c_in, c_out=self.features)\n",
    "        return kernel\n",
    "    \n",
    "    def generate_dominion(self):\n",
    "        return jnp.meshgrid(jnp.linspace(0,self.kernel_size/self.fs,num=self.kernel_size+1)[:-1], jnp.linspace(0,self.kernel_size/self.fs,num=self.kernel_size+1)[:-1])"
   ]
  },
  {
   "cell_type": "code",
   "execution_count": 6,
   "metadata": {},
   "outputs": [],
   "source": [
    "#| exporti\n",
    "class GaussianLayerLogSigma(nn.Module):\n",
    "    \"\"\"Parametric gaussian layer that optimizes log(sigma) instead of sigma.\"\"\"\n",
    "    features: int\n",
    "    kernel_size: Union[int, Sequence[int]]\n",
    "    strides: int = 1\n",
    "    padding: str = \"SAME\"\n",
    "    feature_group_count: int = 1\n",
    "    kernel_init: Callable = nn.initializers.lecun_normal()\n",
    "    bias_init: Callable = nn.initializers.zeros_init()\n",
    "    use_bias: bool = False\n",
    "    xmean: float = 0.5\n",
    "    ymean: float = 0.5\n",
    "    fs: float = 1 # Sampling frequency\n",
    "    normalize_prob: bool = True\n",
    "    normalize_energy: bool = False\n",
    "\n",
    "    @nn.compact\n",
    "    def __call__(self,\n",
    "                 inputs,\n",
    "                 train=False,\n",
    "                 ):\n",
    "        is_initialized = self.has_variable(\"precalc_filter\", \"kernel\")\n",
    "        precalc_filters = self.variable(\"precalc_filter\",\n",
    "                                        \"kernel\",\n",
    "                                        jnp.zeros,\n",
    "                                        (self.kernel_size, self.kernel_size, inputs.shape[-1], self.features))\n",
    "        logsigma = self.param(\"logsigma\",\n",
    "                           bounded_uniform(minval=-4., maxval=-0.5),\n",
    "                           (self.features*inputs.shape[-1],))\n",
    "        A = self.param(\"A\",\n",
    "                       nn.initializers.ones,\n",
    "                       (self.features*inputs.shape[-1],))\n",
    "        sigma = jnp.exp(logsigma)\n",
    "        if self.use_bias: bias = self.param(\"bias\",\n",
    "                                            self.bias_init,\n",
    "                                            (self.features,))\n",
    "        else: bias = 0.\n",
    "        if is_initialized and not train: \n",
    "            kernel = precalc_filters.value\n",
    "        elif is_initialized and train: \n",
    "            x, y = self.generate_dominion()\n",
    "            kernel = jax.vmap(self.gaussian, in_axes=(None,None,None,None,0,0,None,None), out_axes=0)(x, y, self.xmean, self.ymean, sigma, A, self.normalize_prob, self.normalize_energy)\n",
    "            # kernel = jnp.reshape(kernel, newshape=(self.kernel_size, self.kernel_size, inputs.shape[-1], self.features))\n",
    "            kernel = rearrange(kernel, \"(c_in c_out) kx ky -> kx ky c_in c_out\", c_in=inputs.shape[-1], c_out=self.features)\n",
    "            precalc_filters.value = kernel\n",
    "        else:\n",
    "            kernel = precalc_filters.value\n",
    "\n",
    "        ## Add the batch dim if the input is a single element\n",
    "        if jnp.ndim(inputs) < 4: inputs = inputs[None,:]; had_batch = False\n",
    "        else: had_batch = True\n",
    "        outputs = lax.conv(jnp.transpose(inputs,[0,3,1,2]),    # lhs = NCHW image tensor\n",
    "               jnp.transpose(kernel,[3,2,0,1]), # rhs = OIHW conv kernel tensor\n",
    "               (self.strides, self.strides),\n",
    "               self.padding)\n",
    "        ## Move the channels back to the last dim\n",
    "        outputs = jnp.transpose(outputs, (0,2,3,1))\n",
    "        if not had_batch: outputs = outputs[0]\n",
    "        return outputs + bias\n",
    "\n",
    "    @staticmethod\n",
    "    def gaussian(x, y, xmean, ymean, sigma, A=1, normalize_prob=True, normalize_energy=False):\n",
    "        # A_norm = 1/(2*jnp.pi*sigma) if normalize_prob else 1.\n",
    "        A_norm = jnp.where(normalize_prob, 1/(2*jnp.pi*sigma**2), 1.)\n",
    "        g = A_norm*jnp.exp(-((x-xmean)**2 + (y-ymean)**2)/(2*sigma**2))\n",
    "        E_norm = jnp.where(normalize_energy, jnp.sqrt(jnp.sum(g**2)), 1.)\n",
    "        return A*g/E_norm\n",
    "\n",
    "    def return_kernel(self, params, c_in):\n",
    "        x, y = self.generate_dominion()\n",
    "        kernel = jax.vmap(self.gaussian, in_axes=(None,None,None,None,0,0,None,None), out_axes=0)(x, y, self.xmean, self.ymean, jnp.exp(params[\"params\"][\"logsigma\"]), params[\"params\"][\"A\"], self.normalize_prob, self.normalize_energy)\n",
    "        # kernel = jnp.reshape(kernel, newshape=(self.kernel_size, self.kernel_size, 3, self.features))\n",
    "        kernel = rearrange(kernel, \"(c_in c_out) kx ky -> kx ky c_in c_out\", c_in=c_in, c_out=self.features)\n",
    "        return kernel\n",
    "    \n",
    "    def generate_dominion(self):\n",
    "        return jnp.meshgrid(jnp.linspace(0,self.kernel_size/self.fs,num=self.kernel_size+1)[:-1], jnp.linspace(0,self.kernel_size/self.fs,num=self.kernel_size+1)[:-1])"
   ]
  },
  {
   "cell_type": "code",
   "execution_count": 7,
   "metadata": {},
   "outputs": [
    {
     "name": "stdout",
     "output_type": "stream",
     "text": [
      "Parameter shapes:  FrozenDict({\n",
      "    A: (3,),\n",
      "    sigma: (3,),\n",
      "})\n"
     ]
    }
   ],
   "source": [
    "key1, key2 = random.split(random.PRNGKey(0), 2)\n",
    "x = random.normal(key1, shape=(28,28,3))\n",
    "model = GaussianLayer(features=1, kernel_size=21, fs=21)\n",
    "variables = model.init(key2, x)\n",
    "state, params = variables.pop(\"params\")\n",
    "print(\"Parameter shapes: \", jax.tree_util.tree_map(lambda x: x.shape, params))"
   ]
  },
  {
   "cell_type": "code",
   "execution_count": 8,
   "metadata": {},
   "outputs": [
    {
     "data": {
      "image/png": "[encoded data removed]",
      "text/plain": [
       "<Figure size 640x480 with 3 Axes>"
      ]
     },
     "metadata": {},
     "output_type": "display_data"
    }
   ],
   "source": [
    "#| eval: false\n",
    "import matplotlib.pyplot as plt\n",
    "kernel = model.return_kernel({\"params\": params}, c_in=3)\n",
    "fig, axes = plt.subplots(1, 3)\n",
    "for k, sigma, ax in zip(rearrange(kernel, \"kx ky cin cout -> (cin cout) kx ky\"), params[\"sigma\"], axes):\n",
    "    ax.imshow(k)\n",
    "    ax.set_title(sigma)\n",
    "plt.show()"
   ]
  },
  {
   "attachments": {},
   "cell_type": "markdown",
   "metadata": {},
   "source": [
    "We can test if the precalculated filters are updated when in training mode and stay the same when in evaluation mode:"
   ]
  },
  {
   "cell_type": "code",
   "execution_count": 9,
   "metadata": {},
   "outputs": [
    {
     "name": "stdout",
     "output_type": "stream",
     "text": [
      "CPU times: user 127 ms, sys: 25 ms, total: 152 ms\n",
      "Wall time: 254 ms\n"
     ]
    }
   ],
   "source": [
    "%%time\n",
    "outputs, updated_state = model.apply({\"params\": params, **state}, x, mutable=list(state.keys()), train=True)\n",
    "assert not jax.tree_util.tree_map(lambda x,y: (x==y).all(), state, updated_state)[\"precalc_filter\"][\"kernel\"]"
   ]
  },
  {
   "cell_type": "code",
   "execution_count": 10,
   "metadata": {},
   "outputs": [
    {
     "name": "stdout",
     "output_type": "stream",
     "text": [
      "CPU times: user 6.96 ms, sys: 3.46 ms, total: 10.4 ms\n",
      "Wall time: 7.79 ms\n"
     ]
    }
   ],
   "source": [
    "%%time\n",
    "outputs, updated_state = model.apply({\"params\": params, **state}, x, mutable=list(state.keys()), train=False)\n",
    "assert jax.tree_util.tree_map(lambda x,y: (x==y).all(), state, updated_state)[\"precalc_filter\"][\"kernel\"]"
   ]
  },
  {
   "attachments": {},
   "cell_type": "markdown",
   "metadata": {},
   "source": [
    "We see that there is a time difference in both executions, which makes sense because when `train=False`, the filters don't have to be calculated and thus the function should run faster."
   ]
  },
  {
   "attachments": {},
   "cell_type": "markdown",
   "metadata": {},
   "source": [
    "And let's see if we're able to train the layer weights while maintaining the state:"
   ]
  },
  {
   "cell_type": "code",
   "execution_count": 11,
   "metadata": {},
   "outputs": [],
   "source": [
    "from functools import partial\n",
    "\n",
    "@partial(jax.jit, static_argnums=(0, 1))\n",
    "def update_step(apply_fn, tx, inputs, opt_state, params, state):\n",
    "    def loss(params):\n",
    "        pred, updated_state = apply_fn({\"params\": params, **state}, \n",
    "                                       x, \n",
    "                                       mutable=list(state.keys()), \n",
    "                                       train=True)\n",
    "        loss = ((pred-inputs)**2).mean()\n",
    "        return loss, updated_state\n",
    "    (l, updated_state), grads = jax.value_and_grad(loss, has_aux=True)(params)\n",
    "    updates, opt_state = tx.update(grads, opt_state)\n",
    "    params = optax.apply_updates(params, updates)\n",
    "    return opt_state, params, updated_state, l"
   ]
  },
  {
   "cell_type": "code",
   "execution_count": 12,
   "metadata": {},
   "outputs": [
    {
     "name": "stdout",
     "output_type": "stream",
     "text": [
      "Loss 0: 11069.71875\n",
      "Loss 100: 6.948000431060791\n",
      "Loss 200: 4.4530110359191895\n",
      "Loss 300: 3.4638028144836426\n",
      "Loss 400: 2.920699119567871\n",
      "Loss 500: 2.573915958404541\n",
      "Loss 600: 2.3320088386535645\n",
      "Loss 700: 2.153120994567871\n",
      "Loss 800: 2.0152335166931152\n",
      "Loss 900: 1.9056041240692139\n",
      "Loss 1000: 1.8163186311721802\n"
     ]
    }
   ],
   "source": [
    "model = GaussianLayer(features=3, kernel_size=21, fs=21)\n",
    "variables = model.init(random.PRNGKey(0), x)\n",
    "# Split state and params (which are updated by optimizer).\n",
    "state, params = variables.pop('params')\n",
    "del variables  # Delete variables to avoid wasting resources\n",
    "tx = optax.sgd(learning_rate=3e-4)\n",
    "opt_state = tx.init(params)\n",
    "\n",
    "for i in range(1001):\n",
    "  opt_state, params, state, loss = update_step(\n",
    "      model.apply, tx, x, opt_state, params, state)\n",
    "  if i % 100 == 0: print(f\"Loss {i}: {loss}\")"
   ]
  },
  {
   "attachments": {},
   "cell_type": "markdown",
   "metadata": {},
   "source": [
    "The loss is going down, so everything looking good so far!"
   ]
  },
  {
   "attachments": {},
   "cell_type": "markdown",
   "metadata": {},
   "source": [
    "## Gabor layer\n",
    "\n",
    "> We'll repeat the process but now with a Gabor functional form."
   ]
  },
  {
   "cell_type": "code",
   "execution_count": 13,
   "metadata": {},
   "outputs": [],
   "source": [
    "#| export\n",
    "class GaborLayer(nn.Module):\n",
    "    \"\"\"Parametric Gabor layer.\"\"\"\n",
    "    features: int\n",
    "    kernel_size: Union[int, Sequence[int]]\n",
    "    strides: int = 1\n",
    "    padding: str = \"SAME\"\n",
    "    feature_group_count: int = 1\n",
    "    kernel_init: Callable = nn.initializers.lecun_normal()\n",
    "    bias_init: Callable = nn.initializers.zeros_init()\n",
    "    use_bias: bool = False\n",
    "    xmean: float = 0.5\n",
    "    ymean: float = 0.5\n",
    "    fs: float = 1 # Sampling frequency\n",
    "\n",
    "    normalize_prob: bool = True\n",
    "    normalize_energy: bool = False\n",
    "\n",
    "    @nn.compact\n",
    "    def __call__(self,\n",
    "                 inputs,\n",
    "                 train=False,\n",
    "                 ):\n",
    "        is_initialized = self.has_variable(\"precalc_filter\", \"kernel\")\n",
    "        precalc_filters = self.variable(\"precalc_filter\",\n",
    "                                        \"kernel\",\n",
    "                                        jnp.zeros,\n",
    "                                        (self.kernel_size, self.kernel_size, inputs.shape[-1], self.features))\n",
    "        freq = self.param(\"freq\",\n",
    "                           nn.initializers.uniform(scale=self.fs/2),\n",
    "                           (self.features*inputs.shape[-1],))\n",
    "        logsigmax = self.param(\"logsigmax\",\n",
    "                           bounded_uniform(minval=-4., maxval=-0.5),\n",
    "                           (self.features*inputs.shape[-1],))\n",
    "        logsigmay = self.param(\"logsigmay\",\n",
    "                           bounded_uniform(minval=-4., maxval=-0.5),\n",
    "                           (self.features*inputs.shape[-1],))        \n",
    "        theta = self.param(\"theta\",\n",
    "                           nn.initializers.uniform(scale=jnp.pi),\n",
    "                           (self.features*inputs.shape[-1],))\n",
    "        sigma_theta = self.param(\"sigma_theta\",\n",
    "                           nn.initializers.uniform(scale=jnp.pi),\n",
    "                           (self.features*inputs.shape[-1],))\n",
    "        rot_theta = self.param(\"rot_theta\",\n",
    "                           nn.initializers.uniform(scale=jnp.pi),\n",
    "                           (self.features*inputs.shape[-1],))\n",
    "        A = self.param(\"A\",\n",
    "                       nn.initializers.ones,\n",
    "                       (self.features*inputs.shape[-1],))\n",
    "        sigmax, sigmay = jnp.exp(logsigmax), jnp.exp(logsigmay)\n",
    "        if self.use_bias: bias = self.param(\"bias\",\n",
    "                                            self.bias_init,\n",
    "                                            (self.features,))\n",
    "        else: bias = 0.\n",
    "        if is_initialized and not train: \n",
    "            kernel = precalc_filters.value\n",
    "        elif is_initialized and train: \n",
    "            x, y = self.generate_dominion()\n",
    "            # gabor_fn = jax.vmap(self.gabor, in_axes=(None,None,None,None,0,0,0,0,0,0,None,None))\n",
    "            kernel = jax.vmap(self.gabor, in_axes=(None,None,None,None,0,0,0,0,0,0,0,None,None), out_axes=0)(x, y, self.xmean, self.ymean, sigmax, sigmay, freq, theta, sigma_theta, rot_theta, A, self.normalize_prob, self.normalize_energy)\n",
    "            kernel = rearrange(kernel, \"(c_in c_out) kx ky -> kx ky c_in c_out\", c_in=inputs.shape[-1], c_out=self.features)\n",
    "            # kernel = jnp.reshape(kernel, newshape=(self.kernel_size, self.kernel_size, inputs.shape[-1], self.features))\n",
    "            precalc_filters.value = kernel\n",
    "        else:\n",
    "            kernel = precalc_filters.value\n",
    "\n",
    "        ## Add the batch dim if the input is a single element\n",
    "        if jnp.ndim(inputs) < 4: inputs = inputs[None,:]; had_batch = False\n",
    "        else: had_batch = True\n",
    "        outputs = lax.conv(jnp.transpose(inputs,[0,3,1,2]),    # lhs = NCHW image tensor\n",
    "               jnp.transpose(kernel,[3,2,0,1]), # rhs = OIHW conv kernel tensor\n",
    "               (self.strides, self.strides),\n",
    "               self.padding)\n",
    "        ## Move the channels back to the last dim\n",
    "        outputs = jnp.transpose(outputs, (0,2,3,1))\n",
    "        if not had_batch: outputs = outputs[0]\n",
    "        return outputs + bias\n",
    "\n",
    "    @staticmethod\n",
    "    def gabor(x, y, xmean, ymean, sigmax, sigmay, freq, theta, sigma_theta, rot_theta, A=1, normalize_prob=True, normalize_energy=False):\n",
    "        # ## Rotate the dominion\n",
    "        # x = jnp.cos(rot_theta) * (x - xmean) - jnp.sin(rot_theta) * (y - ymean)\n",
    "        # y = jnp.sin(rot_theta) * (x - xmean) + jnp.cos(rot_theta) * (y - ymean)\n",
    "        x, y = x-xmean, y-ymean\n",
    "        ## Obtain the normalization coeficient\n",
    "        sigma_vector = jnp.array([sigmax, sigmay])\n",
    "        cov_matrix = jnp.diag(sigma_vector)**2\n",
    "        det_cov_matrix = jnp.linalg.det(cov_matrix)\n",
    "        # A_norm = 1/(2*jnp.pi*jnp.sqrt(det_cov_matrix)) if normalize_prob else 1.\n",
    "        A_norm = jnp.where(normalize_prob, 1/(2*jnp.pi*jnp.sqrt(det_cov_matrix)), 1.)\n",
    "        \n",
    "        ## Rotate the sinusoid\n",
    "        rotation_matrix = jnp.array([[jnp.cos(sigma_theta), -jnp.sin(sigma_theta)],\n",
    "                                     [jnp.sin(sigma_theta), jnp.cos(sigma_theta)]])\n",
    "        rotated_covariance = rotation_matrix @ jnp.linalg.inv(cov_matrix) @ jnp.transpose(rotation_matrix)\n",
    "        x_r_1 = rotated_covariance[0,0] * x + rotated_covariance[0,1] * y\n",
    "        y_r_1 = rotated_covariance[1,0] * x + rotated_covariance[1,1] * y\n",
    "        distance = x * x_r_1 + y * y_r_1\n",
    "        g = A_norm*jnp.exp(-distance/2) * jnp.cos(2*jnp.pi*freq*(x*jnp.cos(theta)+y*jnp.sin(theta)))\n",
    "        E_norm = jnp.where(normalize_energy, jnp.sqrt(jnp.sum(g**2)), 1.)\n",
    "        return A*g/E_norm\n",
    "\n",
    "    def return_kernel(self, params, c_in=3):\n",
    "        x, y = self.generate_dominion()\n",
    "        sigmax, sigmay = jnp.exp(params[\"logsigmax\"]), jnp.exp(params[\"logsigmay\"])\n",
    "        # sigmax, sigmay = jnp.exp(params[\"sigmax\"]), jnp.exp(params[\"sigmay\"])\n",
    "        kernel = jax.vmap(self.gabor, in_axes=(None,None,None,None,0,0,0,0,0,0,0,None,None), out_axes=0)(x, y, self.xmean, self.ymean, sigmax, sigmay, params[\"freq\"], params[\"theta\"], params[\"sigma_theta\"], params[\"rot_theta\"], params[\"A\"], self.normalize_prob, self.normalize_energy)\n",
    "        # kernel = jnp.reshape(kernel, newshape=(self.kernel_size, self.kernel_size, input_channels, self.features))\n",
    "        kernel = rearrange(kernel, \"(c_in c_out) kx ky -> kx ky c_in c_out\", c_in=c_in, c_out=self.features)\n",
    "        return kernel\n",
    "    \n",
    "    def generate_dominion(self):\n",
    "        return jnp.meshgrid(jnp.linspace(0,self.kernel_size/self.fs,num=self.kernel_size+1)[:-1], jnp.linspace(0,self.kernel_size/self.fs,num=self.kernel_size+1)[:-1])"
   ]
  },
  {
   "cell_type": "code",
   "execution_count": null,
   "metadata": {},
   "outputs": [],
   "source": [
    "key1, key2 = random.split(random.PRNGKey(0), 2)\n",
    "x = random.normal(key1, shape=(28,28,3))\n",
    "model = GaborLayer(features=1, kernel_size=21, fs=21)\n",
    "variables = model.init(key2, x)\n",
    "state, params = variables.pop(\"params\")\n",
    "print(\"Parameter shapes: \", jax.tree_util.tree_map(lambda x: x.shape, params))"
   ]
  },
  {
   "cell_type": "code",
   "execution_count": null,
   "metadata": {},
   "outputs": [
    {
     "data": {
      "image/png": "[encoded data removed]",
      "text/plain": [
       "<Figure size 640x480 with 3 Axes>"
      ]
     },
     "metadata": {},
     "output_type": "display_data"
    }
   ],
   "source": [
    "#| eval: false\n",
    "import matplotlib.pyplot as plt\n",
    "kernel = model.return_kernel(params, c_in=3)\n",
    "fig, axes = plt.subplots(1, 3)\n",
    "# for k, sigmax, sigmay, ax in zip(rearrange(kernel, \"kx ky cin cout -> (cin cout) kx ky\"), params[\"sigmax\"], params[\"sigmay\"], axes):\n",
    "for k, sigmax, sigmay, ax in zip(rearrange(kernel, \"kx ky cin cout -> (cin cout) kx ky\"), jnp.exp(params[\"logsigmax\"]), jnp.exp(params[\"logsigmay\"]), axes):\n",
    "    ax.imshow(k)\n",
    "    ax.set_title(f\"{sigmax:.2f}, {sigmay:.2f}\")\n",
    "plt.show()"
   ]
  },
  {
   "cell_type": "markdown",
   "metadata": {},
   "source": [
    "We can test if the precalculated filters are updated when in training mode and stay the same when in evaluation mode:"
   ]
  },
  {
   "cell_type": "code",
   "execution_count": null,
   "metadata": {},
   "outputs": [
    {
     "name": "stdout",
     "output_type": "stream",
     "text": [
      "CPU times: user 75.1 ms, sys: 7.56 ms, total: 82.6 ms\n",
      "Wall time: 70 ms\n"
     ]
    }
   ],
   "source": [
    "%%time\n",
    "outputs, updated_state = model.apply({\"params\": params, **state}, x, mutable=list(state.keys()), train=True)\n",
    "assert not jax.tree_util.tree_map(lambda x,y: (x==y).all(), state, updated_state)[\"precalc_filter\"][\"kernel\"]"
   ]
  },
  {
   "cell_type": "code",
   "execution_count": null,
   "metadata": {},
   "outputs": [
    {
     "name": "stdout",
     "output_type": "stream",
     "text": [
      "CPU times: user 22.7 ms, sys: 845 µs, total: 23.5 ms\n",
      "Wall time: 20.6 ms\n"
     ]
    }
   ],
   "source": [
    "%%time\n",
    "outputs, updated_state = model.apply({\"params\": params, **state}, x, mutable=list(state.keys()), train=False)\n",
    "assert jax.tree_util.tree_map(lambda x,y: (x==y).all(), state, updated_state)[\"precalc_filter\"][\"kernel\"]"
   ]
  },
  {
   "cell_type": "markdown",
   "metadata": {},
   "source": [
    "We see that there is a time difference in both executions, which makes sense because when `train=False`, the filters don't have to be calculated and thus the function should run faster."
   ]
  },
  {
   "cell_type": "markdown",
   "metadata": {},
   "source": [
    "And let's see if we're able to train the layer weights while maintaining the state:"
   ]
  },
  {
   "cell_type": "code",
   "execution_count": null,
   "metadata": {},
   "outputs": [],
   "source": [
    "from functools import partial\n",
    "\n",
    "@partial(jax.jit, static_argnums=(0, 1))\n",
    "def update_step(apply_fn, tx, inputs, opt_state, params, state):\n",
    "    def loss(params):\n",
    "        pred, updated_state = apply_fn({\"params\": params, **state}, \n",
    "                                       x, \n",
    "                                       mutable=list(state.keys()), \n",
    "                                       train=True)\n",
    "        loss = ((pred-inputs)**2).mean()\n",
    "        return loss, updated_state\n",
    "    (l, updated_state), grads = jax.value_and_grad(loss, has_aux=True)(params)\n",
    "    updates, opt_state = tx.update(grads, opt_state)\n",
    "    params = optax.apply_updates(params, updates)\n",
    "    return opt_state, params, updated_state, l"
   ]
  },
  {
   "cell_type": "code",
   "execution_count": null,
   "metadata": {},
   "outputs": [
    {
     "data": {
      "text/plain": [
       "FrozenDict({\n",
       "    freq: Array([ 0.6816269, 10.3780775,  1.1226437], dtype=float32),\n",
       "    logsigmax: Array([-2.4631429 , -2.717532  , -0.77407956], dtype=float32),\n",
       "    logsigmay: Array([-3.0342553 , -2.29462   , -0.74401665], dtype=float32),\n",
       "    theta: Array([3.050746 , 0.9813687, 1.7434841], dtype=float32),\n",
       "    sigma_theta: Array([2.1122246, 2.7645009, 0.9459793], dtype=float32),\n",
       "    rot_theta: Array([2.5787003, 1.4155393, 0.6662881], dtype=float32),\n",
       "    A: Array([1., 1., 1.], dtype=float32),\n",
       "    bias: Array([0.], dtype=float32),\n",
       "})"
      ]
     },
     "execution_count": null,
     "metadata": {},
     "output_type": "execute_result"
    }
   ],
   "source": [
    "model = GaborLayer(features=1, kernel_size=21, fs=21)\n",
    "variables = model.init(random.PRNGKey(0), x)\n",
    "# Split state and params (which are updated by optimizer).\n",
    "state, params = variables.pop('params')\n",
    "params"
   ]
  },
  {
   "cell_type": "code",
   "execution_count": null,
   "metadata": {},
   "outputs": [
    {
     "name": "stdout",
     "output_type": "stream",
     "text": [
      "FrozenDict({\n",
      "    freq: Array([ 0.6816269, 10.3780775,  1.1226437], dtype=float32),\n",
      "    logsigmax: Array([-2.4631429 , -2.717532  , -0.77407956], dtype=float32),\n",
      "    logsigmay: Array([-3.0342553 , -2.29462   , -0.74401665], dtype=float32),\n",
      "    theta: Array([3.050746 , 0.9813687, 1.7434841], dtype=float32),\n",
      "    sigma_theta: Array([2.1122246, 2.7645009, 0.9459793], dtype=float32),\n",
      "    rot_theta: Array([2.5787003, 1.4155393, 0.6662881], dtype=float32),\n",
      "    A: Array([1., 1., 1.], dtype=float32),\n",
      "    bias: Array([0.], dtype=float32),\n",
      "})\n",
      "Loss 0: 11759.921875\n",
      "Loss 100: 6.003412246704102\n",
      "Loss 200: 3.3821327686309814\n",
      "Loss 300: 2.540632724761963\n",
      "Loss 400: 2.1371352672576904\n",
      "Loss 500: 1.9039528369903564\n",
      "Loss 600: 1.7531648874282837\n",
      "Loss 700: 1.6479049921035767\n",
      "Loss 800: 1.5702329874038696\n",
      "Loss 900: 1.510474443435669\n",
      "Loss 1000: 1.4629970788955688\n"
     ]
    }
   ],
   "source": [
    "model = GaborLayer(features=1, kernel_size=21, fs=21)\n",
    "variables = model.init(random.PRNGKey(0), x)\n",
    "# Split state and params (which are updated by optimizer).\n",
    "state, params = variables.pop('params')\n",
    "del variables  # Delete variables to avoid wasting resources\n",
    "tx = optax.sgd(learning_rate=3e-4)\n",
    "opt_state = tx.init(params)\n",
    "print(params)\n",
    "\n",
    "for i in range(1001):\n",
    "  opt_state, params, state, loss = update_step(\n",
    "      model.apply, tx, x, opt_state, params, state)\n",
    "  if i % 100 == 0: print(f\"Loss {i}: {loss}\")\n",
    "  # print(f\"Loss {i}: {loss}\")\n",
    "  # print(params)"
   ]
  },
  {
   "cell_type": "markdown",
   "metadata": {},
   "source": [
    "The loss is going down, so everything looking good so far!"
   ]
  },
  {
   "attachments": {},
   "cell_type": "markdown",
   "metadata": {},
   "source": [
    "## Center Surround layer"
   ]
  },
  {
   "cell_type": "code",
   "execution_count": null,
   "metadata": {},
   "outputs": [],
   "source": [
    "#| export\n",
    "class CenterSurroundLogSigma(nn.Module):\n",
    "    \"\"\"Parametric center surround layer that optimizes log(sigma) instead of sigma.\"\"\"\n",
    "    features: int\n",
    "    kernel_size: Union[int, Sequence[int]]\n",
    "    strides: int = 1\n",
    "    padding: str = \"SAME\"\n",
    "    feature_group_count: int = 1\n",
    "    kernel_init: Callable = nn.initializers.lecun_normal()\n",
    "    bias_init: Callable = nn.initializers.zeros_init()\n",
    "    use_bias: bool = False\n",
    "    xmean: float = 0.5\n",
    "    ymean: float = 0.5\n",
    "    fs: float = 1 # Sampling frequency\n",
    "    normalize_prob: bool = True\n",
    "    normalize_energy: bool = False\n",
    "\n",
    "    @nn.compact\n",
    "    def __call__(self,\n",
    "                 inputs,\n",
    "                 train=False,\n",
    "                 ):\n",
    "        is_initialized = self.has_variable(\"precalc_filter\", \"kernel\")\n",
    "        precalc_filters = self.variable(\"precalc_filter\",\n",
    "                                        \"kernel\",\n",
    "                                        jnp.zeros,\n",
    "                                        (self.kernel_size, self.kernel_size, inputs.shape[-1], self.features))\n",
    "        logsigma = self.param(\"logsigma\",\n",
    "                           bounded_uniform(minval=-2.2, maxval=-1.7),\n",
    "                           (self.features*inputs.shape[-1],))\n",
    "        logsigma2 = self.param(\"logsigma2\",\n",
    "                           bounded_uniform(minval=-2.2, maxval=-1.7),\n",
    "                           (self.features*inputs.shape[-1],))\n",
    "        A = self.param(\"A\",\n",
    "                       nn.initializers.ones,\n",
    "                       (self.features*inputs.shape[-1],))\n",
    "        sigma = jnp.exp(logsigma)\n",
    "        sigma2 = jnp.exp(logsigma2)\n",
    "        if self.use_bias: bias = self.param(\"bias\",\n",
    "                                            self.bias_init,\n",
    "                                            (self.features,))\n",
    "        else: bias = 0.\n",
    "        if is_initialized and not train: \n",
    "            kernel = precalc_filters.value\n",
    "        elif is_initialized and train: \n",
    "            x, y = self.generate_dominion()\n",
    "            kernel = jax.vmap(self.center_surround, in_axes=(None,None,None,None,0,0,0,None,None), out_axes=0)(x, y, self.xmean, self.ymean, sigma, sigma2, A, self.normalize_prob, self.normalize_energy)\n",
    "            # kernel = jnp.reshape(kernel, newshape=(self.kernel_size, self.kernel_size, inputs.shape[-1], self.features))\n",
    "            kernel = rearrange(kernel, \"(c_in c_out) kx ky -> kx ky c_in c_out\", c_in=inputs.shape[-1], c_out=self.features)\n",
    "            precalc_filters.value = kernel\n",
    "        else:\n",
    "            kernel = precalc_filters.value\n",
    "\n",
    "        ## Add the batch dim if the input is a single element\n",
    "        if jnp.ndim(inputs) < 4: inputs = inputs[None,:]; had_batch = False\n",
    "        else: had_batch = True\n",
    "        outputs = lax.conv(jnp.transpose(inputs,[0,3,1,2]),    # lhs = NCHW image tensor\n",
    "               jnp.transpose(kernel,[3,2,0,1]), # rhs = OIHW conv kernel tensor\n",
    "               (self.strides, self.strides),\n",
    "               self.padding)\n",
    "        ## Move the channels back to the last dim\n",
    "        outputs = jnp.transpose(outputs, (0,2,3,1))\n",
    "        if not had_batch: outputs = outputs[0]\n",
    "        return outputs + bias\n",
    "\n",
    "    # @staticmethod\n",
    "    # def gaussian(x, y, xmean, ymean, sigma, A=1, normalize_prob=True):\n",
    "    #     # A_norm = 1/(2*jnp.pi*sigma) if normalize_prob else 1.\n",
    "    #     A_norm = jnp.where(normalize_prob, 1/(2*jnp.pi*sigma), 1.)\n",
    "    #     return A*A_norm*jnp.exp(-((x-xmean)**2 + (y-ymean)**2)/(2*sigma**2))\n",
    "    \n",
    "    @staticmethod\n",
    "    def center_surround(x, y, xmean, ymean, sigma, sigma2, A=1, normalize_prob=True, normalize_energy=False):\n",
    "        def gaussian(x, y, xmean, ymean, sigma, A=1, normalize_prob=True):\n",
    "            A_norm = jnp.where(normalize_prob, 1/(2*jnp.pi*sigma**2), 1.)\n",
    "            return A*A_norm*jnp.exp(-((x-xmean)**2 + (y-ymean)**2)/(2*sigma**2))\n",
    "        g1 = gaussian(x, y, xmean, ymean, sigma, 1, normalize_prob)\n",
    "        g2 = gaussian(x, y, xmean, ymean, sigma2, 1, normalize_prob)\n",
    "        g = g1-g2\n",
    "        E_norm = jnp.where(normalize_energy, jnp.sqrt(jnp.sum(g**2)), 1.)\n",
    "        return A*g/E_norm\n",
    "    \n",
    "    # @staticmethod\n",
    "    # def center_surround(x, y, xmean, ymean, sigma,  K, A=1, normalize_prob=True):\n",
    "    #     return (1/(2*jnp.pi*sigma**2))*(jnp.exp(-((x-xmean)**2 + (y-ymean)**2)/(2*sigma**2)) - (1/(K**2))*jnp.exp(-((x-xmean)**2 + (y-ymean)**2)/(2*(K*sigma)**2)))\n",
    "\n",
    "    def return_kernel(self, params, c_in):\n",
    "        x, y = self.generate_dominion()\n",
    "        kernel = jax.vmap(self.center_surround, in_axes=(None,None,None,None,0,0,0,None,None), out_axes=0)(x, y, self.xmean, self.ymean, jnp.exp(params[\"params\"][\"logsigma\"]), jnp.exp(params[\"params\"][\"logsigma2\"]), params[\"params\"][\"A\"], self.normalize_prob, self.normalize_energy)\n",
    "        # kernel = jnp.reshape(kernel, newshape=(self.kernel_size, self.kernel_size, 3, self.features))\n",
    "        kernel = rearrange(kernel, \"(c_in c_out) kx ky -> kx ky c_in c_out\", c_in=c_in, c_out=self.features)\n",
    "        return kernel\n",
    "    \n",
    "    def generate_dominion(self):\n",
    "        return jnp.meshgrid(jnp.linspace(0,self.kernel_size/self.fs,num=self.kernel_size+1)[:-1], jnp.linspace(0,self.kernel_size/self.fs,num=self.kernel_size+1)[:-1])"
   ]
  },
  {
   "cell_type": "code",
   "execution_count": null,
   "metadata": {},
   "outputs": [
    {
     "name": "stdout",
     "output_type": "stream",
     "text": [
      "Parameter shapes:  FrozenDict({\n",
      "    A: (3,),\n",
      "    logsigma: (3,),\n",
      "    logsigma2: (3,),\n",
      "})\n"
     ]
    }
   ],
   "source": [
    "key1, key2 = random.split(random.PRNGKey(0), 2)\n",
    "x = random.normal(key1, shape=(28,28,3))\n",
    "model = CenterSurroundLogSigma(features=1, kernel_size=21, fs=21)\n",
    "variables = model.init(key2, x)\n",
    "state, params = variables.pop(\"params\")\n",
    "print(\"Parameter shapes: \", jax.tree_util.tree_map(lambda x: x.shape, params))"
   ]
  },
  {
   "cell_type": "code",
   "execution_count": null,
   "metadata": {},
   "outputs": [
    {
     "data": {
      "image/png": "[encoded data removed]",
      "text/plain": [
       "<Figure size 640x480 with 3 Axes>"
      ]
     },
     "metadata": {},
     "output_type": "display_data"
    }
   ],
   "source": [
    "#| eval: false\n",
    "import matplotlib.pyplot as plt\n",
    "kernel = model.return_kernel({\"params\": params}, c_in=3)\n",
    "fig, axes = plt.subplots(1, 3)\n",
    "for k, sigma, sigma2, ax in zip(rearrange(kernel, \"kx ky cin cout -> (cin cout) kx ky\"), jnp.exp(params[\"logsigma\"]), jnp.exp(params[\"logsigma2\"]), axes):\n",
    "    ax.imshow(k)\n",
    "    ax.set_title(f\"{sigma:.2f} | {sigma2:.2f}\")\n",
    "plt.show()"
   ]
  },
  {
   "cell_type": "code",
   "execution_count": null,
   "metadata": {},
   "outputs": [],
   "source": [
    "#| export\n",
    "class CenterSurroundLogSigmaK(nn.Module):\n",
    "    \"\"\"Parametric center surround layer that optimizes log(sigma) instead of sigma and has a factor K instead of a second sigma.\"\"\"\n",
    "    features: int\n",
    "    kernel_size: Union[int, Sequence[int]]\n",
    "    strides: int = 1\n",
    "    padding: str = \"SAME\"\n",
    "    feature_group_count: int = 1\n",
    "    kernel_init: Callable = nn.initializers.lecun_normal()\n",
    "    bias_init: Callable = nn.initializers.zeros_init()\n",
    "    use_bias: bool = False\n",
    "    xmean: float = 0.5\n",
    "    ymean: float = 0.5\n",
    "    fs: float = 1 # Sampling frequency\n",
    "    normalize_prob: bool = True\n",
    "    normalize_energy: bool = True\n",
    "\n",
    "    @nn.compact\n",
    "    def __call__(self,\n",
    "                 inputs,\n",
    "                 train=False,\n",
    "                 ):\n",
    "        is_initialized = self.has_variable(\"precalc_filter\", \"kernel\")\n",
    "        precalc_filters = self.variable(\"precalc_filter\",\n",
    "                                        \"kernel\",\n",
    "                                        jnp.zeros,\n",
    "                                        (self.kernel_size, self.kernel_size, inputs.shape[-1], self.features))\n",
    "        logsigma = self.param(\"logsigma\",\n",
    "                           bounded_uniform(minval=-2.2, maxval=-1.7),\n",
    "                           (self.features*inputs.shape[-1],))\n",
    "        K = self.param(\"K\",\n",
    "                           displaced_normal(mean=1.1, stddev=0.1),\n",
    "                           (self.features*inputs.shape[-1],))\n",
    "        A = self.param(\"A\",\n",
    "                       nn.initializers.ones,\n",
    "                       (self.features*inputs.shape[-1],))\n",
    "        sigma = jnp.exp(logsigma)\n",
    "        sigma2 = K*sigma\n",
    "        if self.use_bias: bias = self.param(\"bias\",\n",
    "                                            self.bias_init,\n",
    "                                            (self.features,))\n",
    "        else: bias = 0.\n",
    "        if is_initialized and not train: \n",
    "            kernel = precalc_filters.value\n",
    "        elif is_initialized and train: \n",
    "            x, y = self.generate_dominion()\n",
    "            kernel = jax.vmap(self.center_surround, in_axes=(None,None,None,None,0,0,0,None,None), out_axes=0)(x, y, self.xmean, self.ymean, sigma, sigma2, A, self.normalize_prob, self.normalize_energy)\n",
    "            # kernel = jnp.reshape(kernel, newshape=(self.kernel_size, self.kernel_size, inputs.shape[-1], self.features))\n",
    "            kernel = rearrange(kernel, \"(c_in c_out) kx ky -> kx ky c_in c_out\", c_in=inputs.shape[-1], c_out=self.features)\n",
    "            precalc_filters.value = kernel\n",
    "        else:\n",
    "            kernel = precalc_filters.value\n",
    "\n",
    "        ## Add the batch dim if the input is a single element\n",
    "        if jnp.ndim(inputs) < 4: inputs = inputs[None,:]; had_batch = False\n",
    "        else: had_batch = True\n",
    "        outputs = lax.conv(jnp.transpose(inputs,[0,3,1,2]),    # lhs = NCHW image tensor\n",
    "               jnp.transpose(kernel,[3,2,0,1]), # rhs = OIHW conv kernel tensor\n",
    "               (self.strides, self.strides),\n",
    "               self.padding)\n",
    "        ## Move the channels back to the last dim\n",
    "        outputs = jnp.transpose(outputs, (0,2,3,1))\n",
    "        if not had_batch: outputs = outputs[0]\n",
    "        return outputs + bias\n",
    "\n",
    "    # @staticmethod\n",
    "    # def gaussian(x, y, xmean, ymean, sigma, A=1, normalize_prob=True):\n",
    "    #     # A_norm = 1/(2*jnp.pi*sigma) if normalize_prob else 1.\n",
    "    #     A_norm = jnp.where(normalize_prob, 1/(2*jnp.pi*sigma), 1.)\n",
    "    #     return A*A_norm*jnp.exp(-((x-xmean)**2 + (y-ymean)**2)/(2*sigma**2))\n",
    "    \n",
    "    @staticmethod\n",
    "    def center_surround(x, y, xmean, ymean, sigma, sigma2, A=1, normalize_prob=True, normalize_energy=False):\n",
    "        def gaussian(x, y, xmean, ymean, sigma, A=1, normalize_prob=True):\n",
    "            A_norm = jnp.where(normalize_prob, 1/(2*jnp.pi*sigma**2), 1.)\n",
    "            return A*A_norm*jnp.exp(-((x-xmean)**2 + (y-ymean)**2)/(2*sigma**2))\n",
    "        g1 = gaussian(x, y, xmean, ymean, sigma, 1, normalize_prob)\n",
    "        g2 = gaussian(x, y, xmean, ymean, sigma2, 1, normalize_prob)\n",
    "        g = g1 - g2\n",
    "        E_norm = jnp.where(normalize_energy, jnp.sqrt(jnp.sum(g**2)), 1.)\n",
    "        return A*g/E_norm\n",
    "    \n",
    "    # @staticmethod\n",
    "    # def center_surround(x, y, xmean, ymean, sigma,  K, A=1, normalize_prob=True):\n",
    "    #     return (1/(2*jnp.pi*sigma**2))*(jnp.exp(-((x-xmean)**2 + (y-ymean)**2)/(2*sigma**2)) - (1/(K**2))*jnp.exp(-((x-xmean)**2 + (y-ymean)**2)/(2*(K*sigma)**2)))\n",
    "\n",
    "    def return_kernel(self, params, c_in):\n",
    "        x, y = self.generate_dominion()\n",
    "        kernel = jax.vmap(self.center_surround, in_axes=(None,None,None,None,0,0,0,None,None), out_axes=0)(x, y, self.xmean, self.ymean, jnp.exp(params[\"params\"][\"logsigma\"]), params[\"params\"][\"K\"]*jnp.exp(params[\"params\"][\"logsigma\"]), params[\"params\"][\"A\"], self.normalize_prob, self.normalize_energy)\n",
    "        # kernel = jnp.reshape(kernel, newshape=(self.kernel_size, self.kernel_size, 3, self.features))\n",
    "        kernel = rearrange(kernel, \"(c_in c_out) kx ky -> kx ky c_in c_out\", c_in=c_in, c_out=self.features)\n",
    "        return kernel\n",
    "    \n",
    "    def generate_dominion(self):\n",
    "        return jnp.meshgrid(jnp.linspace(0,self.kernel_size/self.fs,num=self.kernel_size+1)[:-1], jnp.linspace(0,self.kernel_size/self.fs,num=self.kernel_size+1)[:-1])"
   ]
  },
  {
   "cell_type": "code",
   "execution_count": null,
   "metadata": {},
   "outputs": [
    {
     "name": "stdout",
     "output_type": "stream",
     "text": [
      "Parameter shapes:  FrozenDict({\n",
      "    A: (3,),\n",
      "    K: (3,),\n",
      "    bias: (1,),\n",
      "    logsigma: (3,),\n",
      "})\n"
     ]
    }
   ],
   "source": [
    "key1, key2 = random.split(random.PRNGKey(0), 2)\n",
    "x = random.normal(key1, shape=(28,28,3))\n",
    "model = CenterSurroundLogSigmaK(features=1, kernel_size=21, fs=21)\n",
    "variables = model.init(key2, x)\n",
    "state, params = variables.pop(\"params\")\n",
    "print(\"Parameter shapes: \", jax.tree_util.tree_map(lambda x: x.shape, params))"
   ]
  },
  {
   "cell_type": "code",
   "execution_count": null,
   "metadata": {},
   "outputs": [
    {
     "data": {
      "image/png": "[encoded data removed]",
      "text/plain": [
       "<Figure size 640x480 with 3 Axes>"
      ]
     },
     "metadata": {},
     "output_type": "display_data"
    }
   ],
   "source": [
    "#| eval: false\n",
    "import matplotlib.pyplot as plt\n",
    "kernel = model.return_kernel({\"params\": params}, c_in=3)\n",
    "fig, axes = plt.subplots(1, 3)\n",
    "for k, sigma, K, ax in zip(rearrange(kernel, \"kx ky cin cout -> (cin cout) kx ky\"), jnp.exp(params[\"logsigma\"]), params[\"K\"], axes):\n",
    "    ax.imshow(k)\n",
    "    ax.set_title(f\"{sigma:.2f} | {K:.2f}\")\n",
    "plt.show()"
   ]
  },
  {
   "cell_type": "markdown",
   "metadata": {},
   "source": [
    "We can test if the precalculated filters are updated when in training mode and stay the same when in evaluation mode:"
   ]
  },
  {
   "cell_type": "code",
   "execution_count": null,
   "metadata": {},
   "outputs": [
    {
     "name": "stdout",
     "output_type": "stream",
     "text": [
      "CPU times: user 41.4 ms, sys: 4.36 ms, total: 45.7 ms\n",
      "Wall time: 35.8 ms\n"
     ]
    }
   ],
   "source": [
    "%%time\n",
    "outputs, updated_state = model.apply({\"params\": params, **state}, x, mutable=list(state.keys()), train=True)\n",
    "assert not jax.tree_util.tree_map(lambda x,y: (x==y).all(), state, updated_state)[\"precalc_filter\"][\"kernel\"]"
   ]
  },
  {
   "cell_type": "code",
   "execution_count": null,
   "metadata": {},
   "outputs": [
    {
     "name": "stdout",
     "output_type": "stream",
     "text": [
      "CPU times: user 13.8 ms, sys: 517 µs, total: 14.3 ms\n",
      "Wall time: 11.5 ms\n"
     ]
    }
   ],
   "source": [
    "%%time\n",
    "outputs, updated_state = model.apply({\"params\": params, **state}, x, mutable=list(state.keys()), train=False)\n",
    "assert jax.tree_util.tree_map(lambda x,y: (x==y).all(), state, updated_state)[\"precalc_filter\"][\"kernel\"]"
   ]
  },
  {
   "cell_type": "markdown",
   "metadata": {},
   "source": [
    "We see that there is a time difference in both executions, which makes sense because when `train=False`, the filters don't have to be calculated and thus the function should run faster."
   ]
  },
  {
   "cell_type": "markdown",
   "metadata": {},
   "source": [
    "And let's see if we're able to train the layer weights while maintaining the state:"
   ]
  },
  {
   "cell_type": "code",
   "execution_count": null,
   "metadata": {},
   "outputs": [],
   "source": [
    "from functools import partial\n",
    "\n",
    "@partial(jax.jit, static_argnums=(0, 1))\n",
    "def update_step(apply_fn, tx, inputs, opt_state, params, state):\n",
    "    def loss(params):\n",
    "        pred, updated_state = apply_fn({\"params\": params, **state}, \n",
    "                                       x, \n",
    "                                       mutable=list(state.keys()), \n",
    "                                       train=True)\n",
    "        loss = ((pred-inputs)**2).mean()\n",
    "        return loss, updated_state\n",
    "    (l, updated_state), grads = jax.value_and_grad(loss, has_aux=True)(params)\n",
    "    updates, opt_state = tx.update(grads, opt_state)\n",
    "    params = optax.apply_updates(params, updates)\n",
    "    return opt_state, params, updated_state, l"
   ]
  },
  {
   "cell_type": "code",
   "execution_count": null,
   "metadata": {},
   "outputs": [
    {
     "name": "stdout",
     "output_type": "stream",
     "text": [
      "Loss 0: 3.6809396743774414\n",
      "Loss 100: 3.560849905014038\n",
      "Loss 200: 3.446598768234253\n",
      "Loss 300: 3.6547975540161133\n",
      "Loss 400: 3.5855612754821777\n",
      "Loss 500: 3.4608006477355957\n",
      "Loss 600: 3.3427505493164062\n",
      "Loss 700: 3.2310400009155273\n",
      "Loss 800: 3.125309944152832\n",
      "Loss 900: 3.025214910507202\n",
      "Loss 1000: 2.9304254055023193\n"
     ]
    }
   ],
   "source": [
    "model = CenterSurroundLogSigmaK(features=3, kernel_size=21, fs=21)\n",
    "variables = model.init(random.PRNGKey(0), x)\n",
    "# Split state and params (which are updated by optimizer).\n",
    "state, params = variables.pop('params')\n",
    "del variables  # Delete variables to avoid wasting resources\n",
    "tx = optax.sgd(learning_rate=3e-4)\n",
    "opt_state = tx.init(params)\n",
    "\n",
    "for i in range(1001):\n",
    "  opt_state, params, state, loss = update_step(\n",
    "      model.apply, tx, x, opt_state, params, state)\n",
    "  if i % 100 == 0: print(f\"Loss {i}: {loss}\")"
   ]
  },
  {
   "cell_type": "markdown",
   "metadata": {},
   "source": [
    "The loss is going down, so everything looking good so far!"
   ]
  },
  {
   "attachments": {},
   "cell_type": "markdown",
   "metadata": {},
   "source": [
    "## Gabor_"
   ]
  },
  {
   "cell_type": "code",
   "execution_count": 228,
   "metadata": {},
   "outputs": [],
   "source": [
    "#| export\n",
    "class GaborLayer_(nn.Module):\n",
    "    \"\"\"Parametric Gabor layer with particular initialization.\"\"\"\n",
    "    # features: int\n",
    "    n_scales: int\n",
    "    n_orientations: int\n",
    "    # n_phases: int\n",
    "    kernel_size: Union[int, Sequence[int]]\n",
    "    strides: int = 1\n",
    "    padding: str = \"SAME\"\n",
    "    feature_group_count: int = 1\n",
    "    kernel_init: Callable = nn.initializers.lecun_normal()\n",
    "    bias_init: Callable = nn.initializers.zeros_init()\n",
    "    use_bias: bool = False\n",
    "    xmean: float = 0.5\n",
    "    ymean: float = 0.5\n",
    "    fs: float = 1 # Sampling frequency\n",
    "    phase = jnp.array([0., jnp.pi/2.])\n",
    "\n",
    "    normalize_prob: bool = True\n",
    "    normalize_energy: bool = False\n",
    "\n",
    "    @nn.compact\n",
    "    def __call__(self,\n",
    "                 inputs,\n",
    "                 train=False,\n",
    "                 ):\n",
    "        features = self.n_scales * self.n_orientations * len(self.phase)\n",
    "        is_initialized = self.has_variable(\"precalc_filter\", \"kernel\")\n",
    "        precalc_filters = self.variable(\"precalc_filter\",\n",
    "                                        \"kernel\",\n",
    "                                        jnp.zeros,\n",
    "                                        (self.kernel_size, self.kernel_size, inputs.shape[-1], features))\n",
    "        freq = self.param(\"freq\",\n",
    "                           freq_scales_init(n_scales=self.n_scales, fs=self.fs),\n",
    "                           (self.n_scales,))\n",
    "        sigmax = self.param(\"sigmax\",\n",
    "                           k_array(k=0.4, arr=freq),\n",
    "                           (self.n_scales,))\n",
    "        sigmay = self.param(\"sigmay\",\n",
    "                           equal_to(1.5*sigmax),\n",
    "                           (self.n_scales,))\n",
    "        # theta = self.param(\"theta\",\n",
    "        #                    nn.initializers.uniform(scale=jnp.pi),\n",
    "        #                    (self.n_scales*self.n_orientations,))\n",
    "        theta = self.param(\"theta\",\n",
    "                           linspace(start=0, stop=jnp.pi, num=self.n_orientations),\n",
    "                           (self.n_orientations,))\n",
    "        sigma_theta = self.param(\"sigma_theta\",\n",
    "                           linspace(start=0, stop=jnp.pi, num=self.n_orientations),\n",
    "                           (self.n_orientations,))\n",
    "        # sigma_theta = theta - jnp.pi/2.\n",
    "        # A = self.param(\"A\",\n",
    "        #                nn.initializers.ones,\n",
    "        #                (self.features*inputs.shape[-1],))\n",
    "        if self.use_bias: bias = self.param(\"bias\",\n",
    "                                            self.bias_init,\n",
    "                                            (features,))\n",
    "        else: bias = 0.\n",
    "        if is_initialized and not train: \n",
    "            kernel = precalc_filters.value\n",
    "        elif is_initialized and train: \n",
    "            x, y = self.generate_dominion()\n",
    "            kernel = jax.vmap(self.gabor, in_axes=(None,None,None,None,0,0,0,None,None,None,None,None,None), out_axes=0)\n",
    "            # kernel = jax.vmap(kernel, in_axes=(None,None,None,None,None,None,0,None,None,None,None,None,None), out_axes=0)\n",
    "            kernel = jax.vmap(kernel, in_axes=(None,None,None,None,None,None,None,0,0,None,None,None,None), out_axes=0)\n",
    "            kernel = jax.vmap(kernel, in_axes=(None,None,None,None,None,None,None,None,None,0,None,None,None), out_axes=0)(x, y, self.xmean, self.ymean, sigmax, sigmay, freq, theta, sigma_theta, self.phase, 1, self.normalize_prob, self.normalize_energy)\n",
    "            kernel = rearrange(kernel, \"phases rots fs_sigmas kx ky -> kx ky (phases rots fs_sigmas)\")\n",
    "            kernel = repeat(kernel, \"kx ky c_out -> kx ky c_in c_out\", c_in=inputs.shape[-1], c_out=kernel.shape[-1])\n",
    "            precalc_filters.value = kernel\n",
    "        else:\n",
    "            kernel = precalc_filters.value\n",
    "\n",
    "        ## Add the batch dim if the input is a single element\n",
    "        if jnp.ndim(inputs) < 4: inputs = inputs[None,:]; had_batch = False\n",
    "        else: had_batch = True\n",
    "        outputs = lax.conv(jnp.transpose(inputs,[0,3,1,2]),    # lhs = NCHW image tensor\n",
    "               jnp.transpose(kernel,[3,2,0,1]), # rhs = OIHW conv kernel tensor\n",
    "               (self.strides, self.strides),\n",
    "               self.padding)\n",
    "        ## Move the channels back to the last dim\n",
    "        outputs = jnp.transpose(outputs, (0,2,3,1))\n",
    "        if not had_batch: outputs = outputs[0]\n",
    "        return outputs + bias\n",
    "\n",
    "    @staticmethod\n",
    "    def gabor(x, y, xmean, ymean, sigmax, sigmay, freq, theta, sigma_theta, phase, A=1, normalize_prob=True, normalize_energy=False):\n",
    "        x, y = x-xmean, y-ymean\n",
    "        ## Obtain the normalization coeficient\n",
    "        sigma_vector = jnp.array([sigmax, sigmay])\n",
    "        cov_matrix = jnp.diag(sigma_vector)**2\n",
    "        det_cov_matrix = jnp.linalg.det(cov_matrix)\n",
    "        # A_norm = 1/(2*jnp.pi*jnp.sqrt(det_cov_matrix)) if normalize_prob else 1.\n",
    "        A_norm = jnp.where(normalize_prob, 1/(2*jnp.pi*jnp.sqrt(det_cov_matrix)), 1.)\n",
    "        \n",
    "        ## Rotate the sinusoid\n",
    "        rotation_matrix = jnp.array([[jnp.cos(sigma_theta), -jnp.sin(sigma_theta)],\n",
    "                                     [jnp.sin(sigma_theta), jnp.cos(sigma_theta)]])\n",
    "        rotated_covariance = rotation_matrix @ jnp.linalg.inv(cov_matrix) @ jnp.transpose(rotation_matrix)\n",
    "        x_r_1 = rotated_covariance[0,0] * x + rotated_covariance[0,1] * y\n",
    "        y_r_1 = rotated_covariance[1,0] * x + rotated_covariance[1,1] * y\n",
    "        distance = x * x_r_1 + y * y_r_1\n",
    "        g = A_norm*jnp.exp(-distance/2) * jnp.cos(2*jnp.pi*freq*(x*jnp.cos(theta)+y*jnp.sin(theta)) + phase)\n",
    "        E_norm = jnp.where(normalize_energy, jnp.sqrt(jnp.sum(g**2)), 1.)\n",
    "        return A*g/E_norm\n",
    "\n",
    "    def return_kernel(self, params, c_in=3):\n",
    "        x, y = self.generate_dominion()\n",
    "        sigmax, sigmay = jnp.exp(params[\"sigmax\"]), jnp.exp(params[\"sigmay\"])\n",
    "        kernel = jax.vmap(self.gabor, in_axes=(None,None,None,None,0,0,None,None,None,None,None,None,None), out_axes=0)\n",
    "        kernel = jax.vmap(kernel, in_axes=(None,None,None,None,None,None,0,None,None,None,None,None,None), out_axes=0)\n",
    "        kernel = jax.vmap(kernel, in_axes=(None,None,None,None,None,None,None,0,0,0,None,None,None), out_axes=0)(x, y, self.xmean, self.ymean, params[\"sigmax\"], params[\"sigmay\"], params[\"freq\"], params[\"theta\"], params[\"sigma_theta\"], self.phase, 1, self.normalize_prob, self.normalize_energy)\n",
    "        # kernel = rearrange(kernel, \"(c_in c_out) kx ky -> kx ky c_in c_out\", c_in=inputs.shape[-1], c_out=self.features)\n",
    "        kernel = rearrange(kernel, \"rots fs sigmas kx ky -> kx ky (rots fs sigmas)\")\n",
    "        kernel = repeat(kernel, \"kx ky c_out -> kx ky c_in c_out\", c_in=c_in, c_out=kernel.shape[-1])\n",
    "        return kernel\n",
    "    \n",
    "    def generate_dominion(self):\n",
    "        return jnp.meshgrid(jnp.linspace(0,self.kernel_size/self.fs,num=self.kernel_size+1)[:-1], jnp.linspace(0,self.kernel_size/self.fs,num=self.kernel_size+1)[:-1])"
   ]
  },
  {
   "cell_type": "code",
   "execution_count": 229,
   "metadata": {},
   "outputs": [
    {
     "name": "stdout",
     "output_type": "stream",
     "text": [
      "Parameter shapes:  FrozenDict({\n",
      "    freq: (4,),\n",
      "    sigma_theta: (10,),\n",
      "    sigmax: (4,),\n",
      "    sigmay: (4,),\n",
      "    theta: (10,),\n",
      "})\n"
     ]
    }
   ],
   "source": [
    "key1, key2 = random.split(random.PRNGKey(0), 2)\n",
    "x = random.normal(key1, shape=(28,28,3))\n",
    "model = GaborLayer_(n_scales=4, n_orientations=10, kernel_size=64, fs=64, normalize_prob=True, normalize_energy=False)\n",
    "variables = model.init(key2, x)\n",
    "state, params = variables.pop(\"params\")\n",
    "print(\"Parameter shapes: \", jax.tree_util.tree_map(lambda x: x.shape, params))"
   ]
  },
  {
   "cell_type": "code",
   "execution_count": 230,
   "metadata": {},
   "outputs": [
    {
     "data": {
      "text/plain": [
       "FrozenDict({\n",
       "    freq: Array([24., 12.,  6.,  3.], dtype=float32),\n",
       "    sigmax: Array([0.01666667, 0.03333334, 0.06666667, 0.13333334], dtype=float32),\n",
       "    sigmay: Array([0.025     , 0.05      , 0.10000001, 0.20000002], dtype=float32),\n",
       "    theta: Array([0.        , 0.31415927, 0.62831855, 0.9424778 , 1.2566371 ,\n",
       "           1.5707964 , 1.8849556 , 2.1991148 , 2.5132742 , 2.8274336 ],      dtype=float32),\n",
       "    sigma_theta: Array([0.        , 0.31415927, 0.62831855, 0.9424778 , 1.2566371 ,\n",
       "           1.5707964 , 1.8849556 , 2.1991148 , 2.5132742 , 2.8274336 ],      dtype=float32),\n",
       "})"
      ]
     },
     "execution_count": 230,
     "metadata": {},
     "output_type": "execute_result"
    }
   ],
   "source": [
    "params"
   ]
  },
  {
   "cell_type": "code",
   "execution_count": 231,
   "metadata": {},
   "outputs": [
    {
     "data": {
      "text/plain": [
       "(2, 10, 4, 64, 64)"
      ]
     },
     "execution_count": 231,
     "metadata": {},
     "output_type": "execute_result"
    }
   ],
   "source": [
    "x, y = model.generate_dominion()\n",
    "kernel = jax.vmap(GaborLayer_.gabor, in_axes=(None,None,None,None,0,0,0,None,None,None,None,None,None), out_axes=0)\n",
    "# kernel = jax.vmap(kernel, in_axes=(None,None,None,None,None,None,0,None,None,None,None,None,None), out_axes=0)\n",
    "kernel = jax.vmap(kernel, in_axes=(None,None,None,None,None,None,None,0,0,None,None,None,None), out_axes=0)\n",
    "kernel = jax.vmap(kernel, in_axes=(None,None,None,None,None,None,None,None,None,0,None,None,None), out_axes=0)(x, y, model.xmean, model.ymean, params[\"sigmax\"], params[\"sigmay\"], params[\"freq\"], params[\"theta\"], params[\"sigma_theta\"], model.phase, 1, model.normalize_prob, model.normalize_energy)\n",
    "# kernel = rearrange(kernel, \"phases rots fs_sigmas kx ky -> kx ky (phases rots fs_sigmas)\")\n",
    "# kernel = repeat(kernel, \"kx ky c_out -> kx ky c_in c_out\", c_in=3, c_out=kernel.shape[-1])\n",
    "kernel.shape"
   ]
  },
  {
   "cell_type": "code",
   "execution_count": 232,
   "metadata": {},
   "outputs": [
    {
     "data": {
      "image/png": "[encoded data removed]",
      "text/plain": [
       "<Figure size 640x480 with 40 Axes>"
      ]
     },
     "metadata": {},
     "output_type": "display_data"
    },
    {
     "data": {
      "image/png": "[encoded data removed]",
      "text/plain": [
       "<Figure size 640x480 with 40 Axes>"
      ]
     },
     "metadata": {},
     "output_type": "display_data"
    }
   ],
   "source": [
    "fig, axes = plt.subplots(kernel.shape[1],kernel.shape[2])\n",
    "for i, axs in enumerate(axes):\n",
    "    for j, ax in enumerate(axs):\n",
    "        ax.imshow(kernel[0,i,j])\n",
    "        ax.axis(\"off\")\n",
    "plt.show()\n",
    "\n",
    "fig, axes = plt.subplots(kernel.shape[1],kernel.shape[2])\n",
    "for i, axs in enumerate(axes):\n",
    "    for j, ax in enumerate(axs):\n",
    "        ax.imshow(kernel[1,i,j])\n",
    "        ax.axis(\"off\")\n",
    "plt.show()"
   ]
  },
  {
   "cell_type": "code",
   "execution_count": 237,
   "metadata": {},
   "outputs": [
    {
     "data": {
      "text/plain": [
       "(40, 64, 64)"
      ]
     },
     "execution_count": 237,
     "metadata": {},
     "output_type": "execute_result"
    }
   ],
   "source": [
    "kernel_f = rearrange(kernel[1:2], \"phases rots fs_sigmas kx ky -> (phases rots fs_sigmas) kx ky\")\n",
    "kernel_f.shape"
   ]
  },
  {
   "cell_type": "code",
   "execution_count": 238,
   "metadata": {},
   "outputs": [
    {
     "data": {
      "text/plain": [
       "((40, 64, 64), (64, 64))"
      ]
     },
     "execution_count": 238,
     "metadata": {},
     "output_type": "execute_result"
    }
   ],
   "source": [
    "kernel_f_fft = jnp.fft.fftn(kernel_f)\n",
    "kernel_f_fft = jnp.fft.fftshift(kernel_f_fft)\n",
    "kernel_f_fft_abs_sum = jnp.abs(kernel_f_fft).sum(axis=0)\n",
    "kernel_f_fft.shape, kernel_f_fft_abs_sum.shape"
   ]
  },
  {
   "cell_type": "code",
   "execution_count": 239,
   "metadata": {},
   "outputs": [
    {
     "data": {
      "image/png": "[encoded data removed]",
      "text/plain": [
       "<Figure size 640x480 with 40 Axes>"
      ]
     },
     "metadata": {},
     "output_type": "display_data"
    },
    {
     "data": {
      "image/png": "[encoded data removed]",
      "text/plain": [
       "<Figure size 640x480 with 40 Axes>"
      ]
     },
     "metadata": {},
     "output_type": "display_data"
    }
   ],
   "source": [
    "fig, axes = plt.subplots(kernel.shape[1],kernel.shape[2])\n",
    "for i, axs in enumerate(axes):\n",
    "    for j, ax in enumerate(axs):\n",
    "        ax.imshow(jnp.abs(jnp.fft.fftshift(jnp.fft.fftn(kernel[0,i,j]))))\n",
    "        ax.axis(\"off\")\n",
    "plt.tight_layout()\n",
    "plt.show()\n",
    "\n",
    "fig, axes = plt.subplots(kernel.shape[1],kernel.shape[2])\n",
    "for i, axs in enumerate(axes):\n",
    "    for j, ax in enumerate(axs):\n",
    "        ax.imshow(jnp.abs(jnp.fft.fftshift(jnp.fft.fftn(kernel[1,i,j]))))\n",
    "        ax.axis(\"off\")\n",
    "plt.tight_layout()\n",
    "plt.show()"
   ]
  },
  {
   "cell_type": "code",
   "execution_count": 240,
   "metadata": {},
   "outputs": [
    {
     "data": {
      "image/png": "[encoded data removed]",
      "text/plain": [
       "<Figure size 640x480 with 1 Axes>"
      ]
     },
     "metadata": {},
     "output_type": "display_data"
    }
   ],
   "source": [
    "plt.imshow(kernel_f_fft_abs_sum)\n",
    "plt.show()"
   ]
  },
  {
   "cell_type": "code",
   "execution_count": 40,
   "metadata": {},
   "outputs": [
    {
     "ename": "TypeError",
     "evalue": "Shapes must be 1D sequences of concrete values of integer type, got (None, 5).",
     "output_type": "error",
     "traceback": [
      "\u001b[0;31m---------------------------------------------------------------------------\u001b[0m",
      "\u001b[0;31mTypeError\u001b[0m                                 Traceback (most recent call last)",
      "File \u001b[0;32m~/miniconda3/envs/deep_gpu_tf/lib/python3.8/site-packages/jax/_src/core.py:1905\u001b[0m, in \u001b[0;36m_dim_handler_and_canonical\u001b[0;34m(*dlist)\u001b[0m\n\u001b[1;32m   1904\u001b[0m \u001b[39mtry\u001b[39;00m:\n\u001b[0;32m-> 1905\u001b[0m   canonical\u001b[39m.\u001b[39mappend(operator\u001b[39m.\u001b[39;49mindex(d))\n\u001b[1;32m   1906\u001b[0m \u001b[39mexcept\u001b[39;00m \u001b[39mTypeError\u001b[39;00m:\n",
      "\u001b[0;31mTypeError\u001b[0m: 'NoneType' object cannot be interpreted as an integer",
      "\nDuring handling of the above exception, another exception occurred:\n",
      "\u001b[0;31mTypeError\u001b[0m                                 Traceback (most recent call last)",
      "Cell \u001b[0;32mIn[40], line 3\u001b[0m\n\u001b[1;32m      1\u001b[0m \u001b[39m#| eval: false\u001b[39;00m\n\u001b[1;32m      2\u001b[0m \u001b[39mimport\u001b[39;00m \u001b[39mmatplotlib\u001b[39;00m\u001b[39m.\u001b[39;00m\u001b[39mpyplot\u001b[39;00m \u001b[39mas\u001b[39;00m \u001b[39mplt\u001b[39;00m\n\u001b[0;32m----> 3\u001b[0m kernel \u001b[39m=\u001b[39m model\u001b[39m.\u001b[39;49mreturn_kernel(params, c_in\u001b[39m=\u001b[39;49m\u001b[39m3\u001b[39;49m)\n\u001b[1;32m      4\u001b[0m fig, axes \u001b[39m=\u001b[39m plt\u001b[39m.\u001b[39msubplots(\u001b[39m1\u001b[39m, \u001b[39m3\u001b[39m)\n\u001b[1;32m      5\u001b[0m \u001b[39m# for k, sigmax, sigmay, ax in zip(rearrange(kernel, \"kx ky cin cout -> (cin cout) kx ky\"), params[\"sigmax\"], params[\"sigmay\"], axes):\u001b[39;00m\n",
      "File \u001b[0;32m~/miniconda3/envs/deep_gpu_tf/lib/python3.8/site-packages/flax/linen/module.py:428\u001b[0m, in \u001b[0;36mwrap_method_once.<locals>.wrapped_module_method\u001b[0;34m(*args, **kwargs)\u001b[0m\n\u001b[1;32m    426\u001b[0m \u001b[39mif\u001b[39;00m args \u001b[39mand\u001b[39;00m \u001b[39misinstance\u001b[39m(args[\u001b[39m0\u001b[39m], Module):\n\u001b[1;32m    427\u001b[0m   \u001b[39mself\u001b[39m, args \u001b[39m=\u001b[39m args[\u001b[39m0\u001b[39m], args[\u001b[39m1\u001b[39m:]\n\u001b[0;32m--> 428\u001b[0m   \u001b[39mreturn\u001b[39;00m \u001b[39mself\u001b[39;49m\u001b[39m.\u001b[39;49m_call_wrapped_method(fun, args, kwargs)\n\u001b[1;32m    429\u001b[0m \u001b[39melse\u001b[39;00m:\n\u001b[1;32m    430\u001b[0m   \u001b[39mreturn\u001b[39;00m fun(\u001b[39m*\u001b[39margs, \u001b[39m*\u001b[39m\u001b[39m*\u001b[39mkwargs)\n",
      "File \u001b[0;32m~/miniconda3/envs/deep_gpu_tf/lib/python3.8/site-packages/flax/linen/module.py:860\u001b[0m, in \u001b[0;36mModule._call_wrapped_method\u001b[0;34m(self, fun, args, kwargs)\u001b[0m\n\u001b[1;32m    858\u001b[0m \u001b[39mif\u001b[39;00m _use_named_call:\n\u001b[1;32m    859\u001b[0m   \u001b[39mwith\u001b[39;00m jax\u001b[39m.\u001b[39mnamed_scope(_derive_profiling_name(\u001b[39mself\u001b[39m, fun)):\n\u001b[0;32m--> 860\u001b[0m     y \u001b[39m=\u001b[39m fun(\u001b[39mself\u001b[39;49m, \u001b[39m*\u001b[39;49margs, \u001b[39m*\u001b[39;49m\u001b[39m*\u001b[39;49mkwargs)\n\u001b[1;32m    861\u001b[0m \u001b[39melse\u001b[39;00m:\n\u001b[1;32m    862\u001b[0m   y \u001b[39m=\u001b[39m fun(\u001b[39mself\u001b[39m, \u001b[39m*\u001b[39margs, \u001b[39m*\u001b[39m\u001b[39m*\u001b[39mkwargs)\n",
      "Cell \u001b[0;32mIn[38], line 109\u001b[0m, in \u001b[0;36mGaborLayer_.return_kernel\u001b[0;34m(self, params, c_in)\u001b[0m\n\u001b[1;32m    107\u001b[0m kernel \u001b[39m=\u001b[39m jax\u001b[39m.\u001b[39mvmap(\u001b[39mself\u001b[39m\u001b[39m.\u001b[39mgabor, in_axes\u001b[39m=\u001b[39m(\u001b[39mNone\u001b[39;00m,\u001b[39mNone\u001b[39;00m,\u001b[39mNone\u001b[39;00m,\u001b[39mNone\u001b[39;00m,\u001b[39m0\u001b[39m,\u001b[39m0\u001b[39m,\u001b[39mNone\u001b[39;00m,\u001b[39mNone\u001b[39;00m,\u001b[39mNone\u001b[39;00m,\u001b[39mNone\u001b[39;00m,\u001b[39mNone\u001b[39;00m,\u001b[39mNone\u001b[39;00m,\u001b[39mNone\u001b[39;00m), out_axes\u001b[39m=\u001b[39m\u001b[39m0\u001b[39m)\n\u001b[1;32m    108\u001b[0m kernel \u001b[39m=\u001b[39m jax\u001b[39m.\u001b[39mvmap(kernel, in_axes\u001b[39m=\u001b[39m(\u001b[39mNone\u001b[39;00m,\u001b[39mNone\u001b[39;00m,\u001b[39mNone\u001b[39;00m,\u001b[39mNone\u001b[39;00m,\u001b[39mNone\u001b[39;00m,\u001b[39mNone\u001b[39;00m,\u001b[39m0\u001b[39m,\u001b[39mNone\u001b[39;00m,\u001b[39mNone\u001b[39;00m,\u001b[39mNone\u001b[39;00m,\u001b[39mNone\u001b[39;00m,\u001b[39mNone\u001b[39;00m,\u001b[39mNone\u001b[39;00m), out_axes\u001b[39m=\u001b[39m\u001b[39m0\u001b[39m)\n\u001b[0;32m--> 109\u001b[0m kernel \u001b[39m=\u001b[39m jax\u001b[39m.\u001b[39;49mvmap(kernel, in_axes\u001b[39m=\u001b[39;49m(\u001b[39mNone\u001b[39;49;00m,\u001b[39mNone\u001b[39;49;00m,\u001b[39mNone\u001b[39;49;00m,\u001b[39mNone\u001b[39;49;00m,\u001b[39mNone\u001b[39;49;00m,\u001b[39mNone\u001b[39;49;00m,\u001b[39mNone\u001b[39;49;00m,\u001b[39m0\u001b[39;49m,\u001b[39m0\u001b[39;49m,\u001b[39m0\u001b[39;49m,\u001b[39mNone\u001b[39;49;00m,\u001b[39mNone\u001b[39;49;00m,\u001b[39mNone\u001b[39;49;00m), out_axes\u001b[39m=\u001b[39;49m\u001b[39m0\u001b[39;49m)(x, y, \u001b[39mself\u001b[39;49m\u001b[39m.\u001b[39;49mxmean, \u001b[39mself\u001b[39;49m\u001b[39m.\u001b[39;49mymean, params[\u001b[39m\"\u001b[39;49m\u001b[39msigmax\u001b[39;49m\u001b[39m\"\u001b[39;49m], params[\u001b[39m\"\u001b[39;49m\u001b[39msigmay\u001b[39;49m\u001b[39m\"\u001b[39;49m], params[\u001b[39m\"\u001b[39;49m\u001b[39mfreq\u001b[39;49m\u001b[39m\"\u001b[39;49m], params[\u001b[39m\"\u001b[39;49m\u001b[39mtheta\u001b[39;49m\u001b[39m\"\u001b[39;49m], params[\u001b[39m\"\u001b[39;49m\u001b[39mtheta\u001b[39;49m\u001b[39m\"\u001b[39;49m]\u001b[39m+\u001b[39;49m jnp\u001b[39m.\u001b[39;49mpi\u001b[39m/\u001b[39;49m\u001b[39m2.\u001b[39;49m, \u001b[39mself\u001b[39;49m\u001b[39m.\u001b[39;49mphase, \u001b[39m1\u001b[39;49m, \u001b[39mself\u001b[39;49m\u001b[39m.\u001b[39;49mnormalize_prob, \u001b[39mself\u001b[39;49m\u001b[39m.\u001b[39;49mnormalize_energy)\n\u001b[1;32m    110\u001b[0m \u001b[39m# kernel = rearrange(kernel, \"(c_in c_out) kx ky -> kx ky c_in c_out\", c_in=inputs.shape[-1], c_out=self.features)\u001b[39;00m\n\u001b[1;32m    111\u001b[0m kernel \u001b[39m=\u001b[39m rearrange(kernel, \u001b[39m\"\u001b[39m\u001b[39mrots fs sigmas kx ky -> kx ky (rots fs sigmas)\u001b[39m\u001b[39m\"\u001b[39m)\n",
      "    \u001b[0;31m[... skipping hidden 6 frame]\u001b[0m\n",
      "File \u001b[0;32m~/miniconda3/envs/deep_gpu_tf/lib/python3.8/site-packages/jax/_src/core.py:1907\u001b[0m, in \u001b[0;36m_dim_handler_and_canonical\u001b[0;34m(*dlist)\u001b[0m\n\u001b[1;32m   1905\u001b[0m       canonical\u001b[39m.\u001b[39mappend(operator\u001b[39m.\u001b[39mindex(d))\n\u001b[1;32m   1906\u001b[0m     \u001b[39mexcept\u001b[39;00m \u001b[39mTypeError\u001b[39;00m:\n\u001b[0;32m-> 1907\u001b[0m       \u001b[39mraise\u001b[39;00m _invalid_shape_error(dlist)\n\u001b[1;32m   1909\u001b[0m \u001b[39mif\u001b[39;00m \u001b[39mlen\u001b[39m(special_handlers) \u001b[39m>\u001b[39m \u001b[39m1\u001b[39m:\n\u001b[1;32m   1910\u001b[0m   msg \u001b[39m=\u001b[39m (\u001b[39mf\u001b[39m\u001b[39m\"\u001b[39m\u001b[39mDimension size operation involves multiple special dimension types \u001b[39m\u001b[39m{\u001b[39;00mdlist\u001b[39m}\u001b[39;00m\u001b[39m\"\u001b[39m)\n",
      "\u001b[0;31mTypeError\u001b[0m: Shapes must be 1D sequences of concrete values of integer type, got (None, 5)."
     ]
    }
   ],
   "source": [
    "#| eval: false\n",
    "import matplotlib.pyplot as plt\n",
    "kernel = model.return_kernel(params, c_in=3)\n",
    "fig, axes = plt.subplots(1, 3)\n",
    "# for k, sigmax, sigmay, ax in zip(rearrange(kernel, \"kx ky cin cout -> (cin cout) kx ky\"), params[\"sigmax\"], params[\"sigmay\"], axes):\n",
    "for k, sigmax, sigmay, ax in zip(rearrange(kernel, \"kx ky cin cout -> (cin cout) kx ky\"), jnp.exp(params[\"sigmax\"]), jnp.exp(params[\"sigmay\"]), axes):\n",
    "    ax.imshow(k)\n",
    "    ax.set_title(f\"{sigmax:.2f}, {sigmay:.2f}\")\n",
    "plt.show()"
   ]
  }
 ],
 "metadata": {
  "kernelspec": {
   "display_name": "python3",
   "language": "python",
   "name": "python3"
  },
  "language_info": {
   "codemirror_mode": {
    "name": "ipython",
    "version": 3
   },
   "file_extension": ".py",
   "mimetype": "text/x-python",
   "name": "python",
   "nbconvert_exporter": "python",
   "pygments_lexer": "ipython3",
   "version": "3.8.16"
  }
 },
 "nbformat": 4,
 "nbformat_minor": 2
}
